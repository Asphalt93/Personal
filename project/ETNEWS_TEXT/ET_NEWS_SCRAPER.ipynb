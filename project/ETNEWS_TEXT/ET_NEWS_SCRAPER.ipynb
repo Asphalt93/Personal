{
 "cells": [
  {
   "cell_type": "code",
   "execution_count": 1,
   "metadata": {},
   "outputs": [],
   "source": [
    "from bs4 import BeautifulSoup as bs              \n",
    "import urllib.request as req                     \n",
    "import time\n",
    "from datetime import date, timedelta\n",
    "import gc\n",
    "import re\n",
    "from selenium import webdriver\n",
    "import sqlite3\n",
    "\n",
    "options = webdriver.ChromeOptions()\n",
    "options.add_argument('headless')\n",
    "options.add_argument('window-size=1920x1080')\n",
    "options.add_argument(\"disable-gpu\")\n",
    "options.add_argument(\"start-fullscreen\")\n",
    "prefs = {\"profile.managed_default_content_settings.images\":2}\n",
    "options.add_experimental_option(\"prefs\",prefs)"
   ]
  },
  {
   "cell_type": "code",
   "execution_count": 6,
   "metadata": {},
   "outputs": [],
   "source": [
    "sections_url = {\n",
    "    #comm\n",
    "    '통신방송' : ['http://www.etnews.com/news/section.html?id1=03&page=','comm'],\n",
    "    \n",
    "    #swgm\n",
    "    'SW게임성장' : ['http://www.etnews.com/news/section.html?id1=04&page=','swgm'],\n",
    "    \n",
    "    #cpnt\n",
    "    '소재부품' : ['http://www.etnews.com/news/section.html?id1=06&page=','cpnt'],\n",
    "    \n",
    "    #elec\n",
    "    '전자자동차유통' : ['http://www.etnews.com/news/section.html?id1=60&page=','elec'],\n",
    "    \n",
    "    #finc\n",
    "    '경제금융' : ['http://www.etnews.com/news/section.html?id1=02&page=','finc'],\n",
    "    \n",
    "    #inds\n",
    "    '산업과학정책' : ['http://www.etnews.com/news/section.html?id1=20&page=','inds']\n",
    "    } "
   ]
  },
  {
   "cell_type": "code",
   "execution_count": 3,
   "metadata": {},
   "outputs": [],
   "source": [
    "def ready_to_scrap_page_main(url):\n",
    "    _ = req.Request(url)\n",
    "    HTML = req.urlopen(_)\n",
    "    page = bs(HTML.read(), 'html.parser')\n",
    "    articles = dict()\n",
    "    for article in page.find('ul',{'class':'list_news'}).findAll('dl',{'class':'clearfix'}):\n",
    "        if re.compile(u'headline clearfix').search(str(article)) != None:\n",
    "            continue\n",
    "        articles[article.find('dt').find('a')['href']] = article.find('dt').find('a').get_text()\n",
    "\n",
    "    return articles\n",
    "    \n",
    "\n",
    "def start_to_scrap_article(url_set):\n",
    "    driver.get(url_set)\n",
    "    HTML = driver.page_source \n",
    "    page = bs(HTML, 'html.parser')\n",
    "    article = page.find('section',{'class':'article_body'}).find('p').get_text()\n",
    "    return article\n",
    "\n",
    "def error_manager(x):\n",
    "    #x = x.replace(',','').replace('“','`').replace(\"”\",'`').replace(\"'\",'`').replace('(','').replace(')','').replace('?','').replace('·','')\n",
    "    x = x.replace('“','`').replace(\"”\",'`').replace(\"'\",'`').replace('(','').replace(')','').replace('?','').replace('·',' ')\n",
    "    return x\n",
    "\n",
    "def upload_data_to_db(data, table):\n",
    "    conn = sqlite3.connect('ETNEWS.db')\n",
    "    cur = conn.cursor()\n",
    "    for d in data:\n",
    "        d = list(d.values())\n",
    "        sql = \"insert into {} values ('{}','{}','{}','{}')\".format(table, \n",
    "                                                           error_manager(d[0]),\n",
    "                                                           error_manager(d[1]),\n",
    "                                                           error_manager(d[2]),\n",
    "                                                           error_manager(d[3]))\n",
    "        cur.execute(sql)\n",
    "        conn.commit()\n",
    "    conn.close()\n",
    "    \n",
    "def check_date_last_update():\n",
    "    conn = sqlite3.connect('ETNEWS.db')\n",
    "    cur = conn.cursor()\n",
    "    sql = \"select max(*) from last_update_date\"\n",
    "    cur.execute(sql)\n",
    "    final_update = cur.fetchone()\n",
    "    return final_update\n",
    "\n",
    "def record_date_last_update(date):\n",
    "    conn = sqlite3.connect('ETNEWS.db')\n",
    "    cur = conn.cursor()\n",
    "    sql = \"insert into last_update_date values({})\".format(date)\n",
    "    cur.execute(sql)\n",
    "    conn.commit()\n",
    "    conn.close()"
   ]
  },
  {
   "cell_type": "code",
   "execution_count": 8,
   "metadata": {
    "scrolled": true
   },
   "outputs": [
    {
     "name": "stdout",
     "output_type": "stream",
     "text": [
      "산업과학정책  탐색 시작.\n",
      "============= DB에 저장합니다. ============\n",
      "============= 현재 섹션을 종료합니다. ============\n"
     ]
    }
   ],
   "source": [
    "#2주 전까지만 신문 열람 가능\n",
    "yesterday = date.today() - timedelta(1)\n",
    "today_date = yesterday.strftime('%Y%m%d')\n",
    "#final_update = check_date_last_update()\n",
    "final_update = '20180715'\n",
    "\n",
    "driver = webdriver.Chrome(\"C:/chromedriver.exe\", chrome_options=options)\n",
    "\n",
    "for section in sections_url:\n",
    "    print(section,\" 탐색 시작.\")\n",
    "    page_number = 1\n",
    "    overdate_flag = 0\n",
    "    save_matrix = []\n",
    "    while True:\n",
    "        time.sleep(1)\n",
    "        for article in ready_to_scrap_page_main(sections_url[section][0]+str(page_number)).items():\n",
    "            gc.collect()\n",
    "            if re.compile('20[0-9]{6}').search(article[0]).group() == time.strftime('%Y%m%d'):\n",
    "                continue\n",
    "            elif re.compile('20[0-9]{6}').search(article[0]).group() == final_update:\n",
    "                overdate_flag = 1\n",
    "                continue\n",
    "            else :\n",
    "                save_matrix.append({\n",
    "                    'title': article[1], #기사제목\n",
    "                    'content':start_to_scrap_article(article[0]), #기사내용\n",
    "                    'date':re.compile('20[0-9]{6}').search(article[0]).group(),\n",
    "                    'url_id':re.compile('20[0-9]{12}').search(article[0]).group()\n",
    "                })\n",
    "                \n",
    "        page_number += 1 #한페이지의 기사 스크랩이 끝나서 다음페이지로 넘어가기 위함.\n",
    "        if overdate_flag == 1: break\n",
    "    \n",
    "    print(\"============= DB에 저장합니다. ============\")\n",
    "    upload_data_to_db(save_matrix, sections_url[section][1])\n",
    "    print(\"============= 현재 섹션을 종료합니다. ============\")\n",
    "    \n",
    "driver.close()\n",
    "\n",
    "record_date_last_update(today_date)"
   ]
  },
  {
   "cell_type": "code",
   "execution_count": 7,
   "metadata": {},
   "outputs": [],
   "source": [
    "driver.close()"
   ]
  }
 ],
 "metadata": {
  "kernelspec": {
   "display_name": "Python 3",
   "language": "python",
   "name": "python3"
  },
  "language_info": {
   "codemirror_mode": {
    "name": "ipython",
    "version": 3
   },
   "file_extension": ".py",
   "mimetype": "text/x-python",
   "name": "python",
   "nbconvert_exporter": "python",
   "pygments_lexer": "ipython3",
   "version": "3.6.4"
  }
 },
 "nbformat": 4,
 "nbformat_minor": 2
}
