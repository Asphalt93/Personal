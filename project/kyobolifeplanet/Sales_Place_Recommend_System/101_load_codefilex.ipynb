{
 "cells": [
  {
   "cell_type": "code",
   "execution_count": 1,
   "metadata": {},
   "outputs": [],
   "source": [
    "import pandas as pd\n",
    "import matplotlib.pyplot as plt\n",
    "import gc\n",
    "\n",
    "import warnings\n",
    "warnings.filterwarnings('ignore')\n",
    "\n",
    "import os\n",
    "import sys\n",
    "import urllib.request\n",
    "import json"
   ]
  },
  {
   "cell_type": "code",
   "execution_count": 2,
   "metadata": {},
   "outputs": [],
   "source": [
    "from matplotlib import font_manager, rc\n",
    "font_name = font_manager.FontProperties(fname=\"c:/Windows/Fonts/NanumGothic.ttf\").get_name()\n",
    "rc('font', family=font_name)"
   ]
  },
  {
   "cell_type": "code",
   "execution_count": 3,
   "metadata": {},
   "outputs": [],
   "source": [
    "xldata = pd.read_html(\"codefilex.xls\", encoding = 'cp949')"
   ]
  },
  {
   "cell_type": "code",
   "execution_count": 4,
   "metadata": {},
   "outputs": [],
   "source": [
    "df = pd.DataFrame(xldata[0])"
   ]
  },
  {
   "cell_type": "code",
   "execution_count": 5,
   "metadata": {},
   "outputs": [],
   "source": [
    "header = df.iloc[0]"
   ]
  },
  {
   "cell_type": "code",
   "execution_count": 6,
   "metadata": {},
   "outputs": [],
   "source": [
    "df = df[1:]"
   ]
  },
  {
   "cell_type": "code",
   "execution_count": 7,
   "metadata": {},
   "outputs": [],
   "source": [
    "df.rename(columns = header, inplace = True)"
   ]
  },
  {
   "cell_type": "code",
   "execution_count": 8,
   "metadata": {},
   "outputs": [
    {
     "data": {
      "text/html": [
       "<div>\n",
       "<style scoped>\n",
       "    .dataframe tbody tr th:only-of-type {\n",
       "        vertical-align: middle;\n",
       "    }\n",
       "\n",
       "    .dataframe tbody tr th {\n",
       "        vertical-align: top;\n",
       "    }\n",
       "\n",
       "    .dataframe thead th {\n",
       "        text-align: right;\n",
       "    }\n",
       "</style>\n",
       "<table border=\"1\" class=\"dataframe\">\n",
       "  <thead>\n",
       "    <tr style=\"text-align: right;\">\n",
       "      <th></th>\n",
       "      <th>은행코드</th>\n",
       "      <th>은행명</th>\n",
       "      <th>점포명</th>\n",
       "      <th>전화번호</th>\n",
       "      <th>팩스</th>\n",
       "      <th>우편번호</th>\n",
       "      <th>주소</th>\n",
       "    </tr>\n",
       "  </thead>\n",
       "  <tbody>\n",
       "    <tr>\n",
       "      <th>1</th>\n",
       "      <td>0010003</td>\n",
       "      <td>한국</td>\n",
       "      <td>본부총괄</td>\n",
       "      <td>02 759 4114</td>\n",
       "      <td>02 759 4060</td>\n",
       "      <td>100794</td>\n",
       "      <td>서울특별시　중구　남대문로　３９</td>\n",
       "    </tr>\n",
       "    <tr>\n",
       "      <th>2</th>\n",
       "      <td>0010100</td>\n",
       "      <td>한국</td>\n",
       "      <td>기획국</td>\n",
       "      <td>02 759 4114</td>\n",
       "      <td>02 759 4060</td>\n",
       "      <td>100794</td>\n",
       "      <td>서울특별시　중구　남대문로　３９</td>\n",
       "    </tr>\n",
       "    <tr>\n",
       "      <th>3</th>\n",
       "      <td>0010304</td>\n",
       "      <td>한국</td>\n",
       "      <td>전산정보국</td>\n",
       "      <td>02 560 1114</td>\n",
       "      <td>02 569 9009</td>\n",
       "      <td>135920</td>\n",
       "      <td>서울특별시　강남구　테헤란로　２０２</td>\n",
       "    </tr>\n",
       "    <tr>\n",
       "      <th>4</th>\n",
       "      <td>0010401</td>\n",
       "      <td>한국</td>\n",
       "      <td>총무국</td>\n",
       "      <td>02 759 4114</td>\n",
       "      <td>02 759 5652</td>\n",
       "      <td>100794</td>\n",
       "      <td>서울특별시　중구　남대문로　３９</td>\n",
       "    </tr>\n",
       "    <tr>\n",
       "      <th>5</th>\n",
       "      <td>0010809</td>\n",
       "      <td>한국</td>\n",
       "      <td>조사국</td>\n",
       "      <td>02 759 4114</td>\n",
       "      <td>02 752 0946</td>\n",
       "      <td>100794</td>\n",
       "      <td>서울특별시　중구　남대문로　３９</td>\n",
       "    </tr>\n",
       "    <tr>\n",
       "      <th>6</th>\n",
       "      <td>0010906</td>\n",
       "      <td>한국</td>\n",
       "      <td>경제통계국</td>\n",
       "      <td>02 759 4114</td>\n",
       "      <td>02 759 4340</td>\n",
       "      <td>100794</td>\n",
       "      <td>서울특별시　중구　남대문로　３９</td>\n",
       "    </tr>\n",
       "    <tr>\n",
       "      <th>7</th>\n",
       "      <td>0010935</td>\n",
       "      <td>한국</td>\n",
       "      <td>금융안정분석국</td>\n",
       "      <td>02 759 4114</td>\n",
       "      <td>02 750 6849</td>\n",
       "      <td>100794</td>\n",
       "      <td>서울특별시　중구　남대문로　３９</td>\n",
       "    </tr>\n",
       "    <tr>\n",
       "      <th>8</th>\n",
       "      <td>0011002</td>\n",
       "      <td>한국</td>\n",
       "      <td>금융결제국</td>\n",
       "      <td>02 759 1114</td>\n",
       "      <td>02 750 6660</td>\n",
       "      <td>100794</td>\n",
       "      <td>서울특별시　중구　남대문로　３９</td>\n",
       "    </tr>\n",
       "    <tr>\n",
       "      <th>9</th>\n",
       "      <td>0011109</td>\n",
       "      <td>한국</td>\n",
       "      <td>정책기획국</td>\n",
       "      <td>02 759 4114</td>\n",
       "      <td>02 759 4485</td>\n",
       "      <td>100794</td>\n",
       "      <td>서울특별시　중구　남대문로　３９</td>\n",
       "    </tr>\n",
       "    <tr>\n",
       "      <th>10</th>\n",
       "      <td>0011141</td>\n",
       "      <td>한국</td>\n",
       "      <td>금융시장국</td>\n",
       "      <td>02 759 4114</td>\n",
       "      <td>02 759 4561</td>\n",
       "      <td>100794</td>\n",
       "      <td>서울특별시　중구　남대문로　３９</td>\n",
       "    </tr>\n",
       "  </tbody>\n",
       "</table>\n",
       "</div>"
      ],
      "text/plain": [
       "       은행코드 은행명      점포명         전화번호           팩스    우편번호                  주소\n",
       "1   0010003  한국     본부총괄  02 759 4114  02 759 4060  100794    서울특별시　중구　남대문로　３９\n",
       "2   0010100  한국      기획국  02 759 4114  02 759 4060  100794    서울특별시　중구　남대문로　３９\n",
       "3   0010304  한국    전산정보국  02 560 1114  02 569 9009  135920  서울특별시　강남구　테헤란로　２０２\n",
       "4   0010401  한국      총무국  02 759 4114  02 759 5652  100794    서울특별시　중구　남대문로　３９\n",
       "5   0010809  한국      조사국  02 759 4114  02 752 0946  100794    서울특별시　중구　남대문로　３９\n",
       "6   0010906  한국    경제통계국  02 759 4114  02 759 4340  100794    서울특별시　중구　남대문로　３９\n",
       "7   0010935  한국  금융안정분석국  02 759 4114  02 750 6849  100794    서울특별시　중구　남대문로　３９\n",
       "8   0011002  한국    금융결제국  02 759 1114  02 750 6660  100794    서울특별시　중구　남대문로　３９\n",
       "9   0011109  한국    정책기획국  02 759 4114  02 759 4485  100794    서울특별시　중구　남대문로　３９\n",
       "10  0011141  한국    금융시장국  02 759 4114  02 759 4561  100794    서울특별시　중구　남대문로　３９"
      ]
     },
     "execution_count": 8,
     "metadata": {},
     "output_type": "execute_result"
    }
   ],
   "source": [
    "df.head(10)"
   ]
  },
  {
   "cell_type": "code",
   "execution_count": 9,
   "metadata": {},
   "outputs": [
    {
     "data": {
      "text/plain": [
       "array(['한국', '산업', '기업', '국민', 'ＫＥＢ하나', '수협은행', '수출입', '농협은행', '지역농축협',\n",
       "       '우리', '신한', 'ＳＣ제일', '한국씨티', '대구', '부산', '광주', '제주', '전북', '경남',\n",
       "       '새마을금고', '신협', '상호저축은행', 'Ｄ．Ｂ．Ｓ．', 'ＢＢＶＡ은행', '중국농업은행주식유한',\n",
       "       'Ｂ．Ｏ．Ｃ．', '스테이트스트리트은행', 'Ｓｔａｔｅ\\u3000Ｂａｎｋ', '중국광대은행', 'Ｙａｍａｇｕｃｈｉ',\n",
       "       '바덴뷔르템베르크은행', 'ＢＮＰＰａｒｉｂａｓ', 'ＡＭＥＸ', 'ＩＮＧ\\u3000Ｂａｎｋ', 'Ｉ．Ｏ．Ｂ．',\n",
       "       'Ｕ．Ｏ．Ｂ．', 'ＳＥＰＡＣ', 'Ｎ．Ｂ．Ｃ．', 'Ｂａｒｃｌａｙｓ', 'Ｉ．Ｂ．Ｓ．', 'ＮｏｖａＳｃｏｔｉａ',\n",
       "       '골드만삭스인터내셔널', '크레디아그리콜뱅크', 'Ｂ．Ｔ．Ｃ．', 'ＭｉｔｓｕｉＳｕｍｉ', 'Ｒ．Ｂ．Ｃ．', 'ＵＢＳ',\n",
       "       'Ｂ．Ｏ．Ｍ．', 'Ｕ．Ｂ．Ａ．Ｆ．', 'ＭＥＬＬＡＴ', 'ＴＯＫＡＩ', 'Ｓ．Ｇ．Ｂ．', 'ＷＥＳＴＰＡＣ',\n",
       "       'Ｆ．Ｎ．Ｂ．Ｂ．', 'Ｎ．Ｂ．Ｐ．', 'Ａ．Ｂ．Ｌ．', 'ＡＳＡＨＩ', 'ＭＩＴＳＵＢＩＳＨＩ', '메릴린치인터내셔널',\n",
       "       '맥쿼리은행', 'Ｂ．Ｏ．Ｈ．', 'ＯＣＢＣ\\u3000Ｂａｎｋ', 'ＦＩＣＡＬ', '리먼브러더스', 'Ａ．Ｎ．Ｚ．',\n",
       "       'ＢＮＹ\\u3000ＭＥＬＬＯＮ', 'Ｎ．Ｗ．Ｂ', 'ＤＡＩＷＡ', 'Ｌ．Ｔ．Ｃ．Ｂ．', 'ＭＥＴＲＯＢＡＮＫ',\n",
       "       '메트로은행', 'ＣｒｅｄｉｔＳｕｉｓ', 'Ｗａｃｈｏｖｉａ', '중국건설은행', '중국교통은행', '모간스탠리',\n",
       "       'ＨＳＢＣ', '도이치은행', '알비에스피엘씨', 'ＪＰ모간체이스', '미즈호은행', '미쓰비시도쿄ＵＦＪ은',\n",
       "       'Ｂ．Ｏ．Ａ', '비엔피파리바', '중국공상은행', '중국은행', '산림조합', '대화은행', '우체국',\n",
       "       '신용보증기금', '기술보증기금', '케이뱅크', '카카오뱅크', '서울보증보험', '금융결제원', '유안타증권',\n",
       "       'ＫＢ증권', 'ＫＴＢ투자증권', '미래에셋대우', '삼성증권', '한국투자증권', 'ＮＨ투자증권', '교보증권',\n",
       "       '하이투자증권', '현대차투자증권', '키움증권', '이베스트투자증권', '에스케이증권', '대신증권',\n",
       "       '메리츠종합금융증권', '한화투자증권', '하나금융투자', '신한금융투자', 'ＤＢ금융투자', '유진투자증권',\n",
       "       '부국증권', '신영증권', '케이프투자증권', '펀드온라인코리아', '미래에셋생명', '메리츠화재', '삼성생명'],\n",
       "      dtype=object)"
      ]
     },
     "execution_count": 9,
     "metadata": {},
     "output_type": "execute_result"
    }
   ],
   "source": [
    "df.은행명.unique()"
   ]
  },
  {
   "cell_type": "code",
   "execution_count": 10,
   "metadata": {},
   "outputs": [],
   "source": [
    "guest_bank = ['기업','국민','우리','ＳＣ제일','케이뱅크']"
   ]
  },
  {
   "cell_type": "markdown",
   "metadata": {},
   "source": [
    "## IBK 기업은행 데이터 전처리"
   ]
  },
  {
   "cell_type": "code",
   "execution_count": 11,
   "metadata": {
    "scrolled": true
   },
   "outputs": [
    {
     "name": "stdout",
     "output_type": "stream",
     "text": [
      "<class 'pandas.core.frame.DataFrame'>\n",
      "Int64Index: 801 entries, 188 to 16039\n",
      "Data columns (total 7 columns):\n",
      "은행코드    801 non-null object\n",
      "은행명     801 non-null object\n",
      "점포명     801 non-null object\n",
      "전화번호    801 non-null object\n",
      "팩스      795 non-null object\n",
      "우편번호    801 non-null object\n",
      "주소      801 non-null object\n",
      "dtypes: object(7)\n",
      "memory usage: 50.1+ KB\n"
     ]
    }
   ],
   "source": [
    "df_ibk = df[df.은행명 == '기업']\n",
    "df_ibk.info()"
   ]
  },
  {
   "cell_type": "code",
   "execution_count": 12,
   "metadata": {},
   "outputs": [
    {
     "data": {
      "text/html": [
       "<div>\n",
       "<style scoped>\n",
       "    .dataframe tbody tr th:only-of-type {\n",
       "        vertical-align: middle;\n",
       "    }\n",
       "\n",
       "    .dataframe tbody tr th {\n",
       "        vertical-align: top;\n",
       "    }\n",
       "\n",
       "    .dataframe thead th {\n",
       "        text-align: right;\n",
       "    }\n",
       "</style>\n",
       "<table border=\"1\" class=\"dataframe\">\n",
       "  <thead>\n",
       "    <tr style=\"text-align: right;\">\n",
       "      <th></th>\n",
       "      <th>은행코드</th>\n",
       "      <th>은행명</th>\n",
       "      <th>점포명</th>\n",
       "      <th>전화번호</th>\n",
       "      <th>팩스</th>\n",
       "      <th>우편번호</th>\n",
       "      <th>주소</th>\n",
       "    </tr>\n",
       "  </thead>\n",
       "  <tbody>\n",
       "    <tr>\n",
       "      <th>188</th>\n",
       "      <td>0030009</td>\n",
       "      <td>기업</td>\n",
       "      <td>본부총괄</td>\n",
       "      <td>02 729 6114</td>\n",
       "      <td>NaN</td>\n",
       "      <td>100758</td>\n",
       "      <td>서울시　중구　을지로２가　５０</td>\n",
       "    </tr>\n",
       "    <tr>\n",
       "      <th>189</th>\n",
       "      <td>0030012</td>\n",
       "      <td>기업</td>\n",
       "      <td>영업부</td>\n",
       "      <td>02 729 6114</td>\n",
       "      <td>0505075 0001</td>\n",
       "      <td>04541</td>\n",
       "      <td>서울특별시　중구　을지로　７９</td>\n",
       "    </tr>\n",
       "    <tr>\n",
       "      <th>190</th>\n",
       "      <td>0030025</td>\n",
       "      <td>기업</td>\n",
       "      <td>동대문（지）</td>\n",
       "      <td>02 745 8751</td>\n",
       "      <td>0505075 0002</td>\n",
       "      <td>03130</td>\n",
       "      <td>서울특별시　종로구　종로　１８９　（종로４가）</td>\n",
       "    </tr>\n",
       "  </tbody>\n",
       "</table>\n",
       "</div>"
      ],
      "text/plain": [
       "        은행코드 은행명     점포명         전화번호            팩스    우편번호  \\\n",
       "188  0030009  기업    본부총괄  02 729 6114           NaN  100758   \n",
       "189  0030012  기업     영업부  02 729 6114  0505075 0001   04541   \n",
       "190  0030025  기업  동대문（지）  02 745 8751  0505075 0002   03130   \n",
       "\n",
       "                          주소  \n",
       "188          서울시　중구　을지로２가　５０  \n",
       "189          서울특별시　중구　을지로　７９  \n",
       "190  서울특별시　종로구　종로　１８９　（종로４가）  "
      ]
     },
     "execution_count": 12,
     "metadata": {},
     "output_type": "execute_result"
    }
   ],
   "source": [
    "df_ibk.head(3)"
   ]
  },
  {
   "cell_type": "code",
   "execution_count": 13,
   "metadata": {},
   "outputs": [],
   "source": [
    "code_dict = { \"０\":\"0\",\n",
    "            \"１\":\"1\",\n",
    "            \"２\":\"2\",\n",
    "            \"３\":\"3\",\n",
    "            \"４\":\"4\",\n",
    "            \"５\":\"5\",\n",
    "            \"６\":\"6\",\n",
    "            \"７\":\"7\",\n",
    "            \"８\":\"8\",\n",
    "            \"９\":\"9\",\n",
    "            \"　\":\" \"}\n",
    "code_eng_dict = { \n",
    "    'Ａ':'A',\n",
    "    'Ｂ':'B',\n",
    "    'Ｃ':'C',\n",
    "    'Ｄ':'D',\n",
    "    'Ｅ':'E',\n",
    "    'Ｆ':'F',\n",
    "    'Ｇ':'G',\n",
    "    'Ｈ':'H',\n",
    "    'Ｉ':'I',\n",
    "    'Ｊ':'J',\n",
    "    'Ｋ':'K',\n",
    "    'Ｌ':'L',\n",
    "    'Ｍ':'M',\n",
    "    'Ｎ':'N',\n",
    "    'Ｏ':'O',\n",
    "    'Ｐ':'P',\n",
    "    'Ｑ':'Q',\n",
    "    'Ｒ':'R',\n",
    "    'Ｓ':'S',\n",
    "    'Ｔ':'T',\n",
    "    'Ｕ':'U',\n",
    "    'Ｖ':'V',\n",
    "    'Ｗ':'W',\n",
    "    'Ｘ':'X',\n",
    "    'Ｙ':'Y',\n",
    "    'Ｚ':'Z' }"
   ]
  },
  {
   "cell_type": "code",
   "execution_count": 14,
   "metadata": {},
   "outputs": [],
   "source": [
    "df_ibk['주소_변환'] = df_ibk.주소.apply(lambda x : x)\n",
    "df_ibk['주소_변환'] = df_ibk.주소_변환.apply(lambda x: x.replace('０', '0')\n",
    "                                     .replace('１', '1')\n",
    "                                     .replace('２', '2')\n",
    "                                     .replace('３', '3')\n",
    "                                     .replace('４', '4')\n",
    "                                     .replace('５', '5')\n",
    "                                     .replace('６', '6')\n",
    "                                     .replace('７', '7')\n",
    "                                     .replace('８', '8')\n",
    "                                     .replace('９', '9')\n",
    "                                     .replace('\\u3000', ' ')\n",
    "                                    .replace('（','(')\n",
    "                                    .replace('）',')')\n",
    "                                    )"
   ]
  },
  {
   "cell_type": "code",
   "execution_count": 15,
   "metadata": {},
   "outputs": [
    {
     "data": {
      "text/plain": [
       "0"
      ]
     },
     "execution_count": 15,
     "metadata": {},
     "output_type": "execute_result"
    }
   ],
   "source": [
    "gc.collect()"
   ]
  },
  {
   "cell_type": "code",
   "execution_count": 16,
   "metadata": {},
   "outputs": [],
   "source": [
    "df_ibk.drop(['주소','전화번호','팩스','우편번호'], axis = 1, inplace = True)"
   ]
  },
  {
   "cell_type": "code",
   "execution_count": 17,
   "metadata": {},
   "outputs": [
    {
     "data": {
      "text/html": [
       "<div>\n",
       "<style scoped>\n",
       "    .dataframe tbody tr th:only-of-type {\n",
       "        vertical-align: middle;\n",
       "    }\n",
       "\n",
       "    .dataframe tbody tr th {\n",
       "        vertical-align: top;\n",
       "    }\n",
       "\n",
       "    .dataframe thead th {\n",
       "        text-align: right;\n",
       "    }\n",
       "</style>\n",
       "<table border=\"1\" class=\"dataframe\">\n",
       "  <thead>\n",
       "    <tr style=\"text-align: right;\">\n",
       "      <th></th>\n",
       "      <th>은행코드</th>\n",
       "      <th>은행명</th>\n",
       "      <th>점포명</th>\n",
       "      <th>주소_변환</th>\n",
       "    </tr>\n",
       "  </thead>\n",
       "  <tbody>\n",
       "    <tr>\n",
       "      <th>188</th>\n",
       "      <td>0030009</td>\n",
       "      <td>기업</td>\n",
       "      <td>본부총괄</td>\n",
       "      <td>서울시 중구 을지로2가 50</td>\n",
       "    </tr>\n",
       "    <tr>\n",
       "      <th>189</th>\n",
       "      <td>0030012</td>\n",
       "      <td>기업</td>\n",
       "      <td>영업부</td>\n",
       "      <td>서울특별시 중구 을지로 79</td>\n",
       "    </tr>\n",
       "    <tr>\n",
       "      <th>190</th>\n",
       "      <td>0030025</td>\n",
       "      <td>기업</td>\n",
       "      <td>동대문（지）</td>\n",
       "      <td>서울특별시 종로구 종로 189 (종로4가)</td>\n",
       "    </tr>\n",
       "    <tr>\n",
       "      <th>191</th>\n",
       "      <td>0030038</td>\n",
       "      <td>기업</td>\n",
       "      <td>상계역（지）</td>\n",
       "      <td>서울특별시 노원구 덕릉로 690</td>\n",
       "    </tr>\n",
       "    <tr>\n",
       "      <th>192</th>\n",
       "      <td>0030041</td>\n",
       "      <td>기업</td>\n",
       "      <td>수유동（지）</td>\n",
       "      <td>서울특별시 강북구 삼양로 511</td>\n",
       "    </tr>\n",
       "  </tbody>\n",
       "</table>\n",
       "</div>"
      ],
      "text/plain": [
       "        은행코드 은행명     점포명                    주소_변환\n",
       "188  0030009  기업    본부총괄          서울시 중구 을지로2가 50\n",
       "189  0030012  기업     영업부          서울특별시 중구 을지로 79\n",
       "190  0030025  기업  동대문（지）  서울특별시 종로구 종로 189 (종로4가)\n",
       "191  0030038  기업  상계역（지）        서울특별시 노원구 덕릉로 690\n",
       "192  0030041  기업  수유동（지）        서울특별시 강북구 삼양로 511"
      ]
     },
     "execution_count": 17,
     "metadata": {},
     "output_type": "execute_result"
    }
   ],
   "source": [
    "df_ibk.head()"
   ]
  },
  {
   "cell_type": "markdown",
   "metadata": {},
   "source": [
    "## SC제일은행 데이터 전처리"
   ]
  },
  {
   "cell_type": "code",
   "execution_count": 18,
   "metadata": {},
   "outputs": [
    {
     "name": "stdout",
     "output_type": "stream",
     "text": [
      "<class 'pandas.core.frame.DataFrame'>\n",
      "Int64Index: 363 entries, 12548 to 12910\n",
      "Data columns (total 7 columns):\n",
      "은행코드    363 non-null object\n",
      "은행명     363 non-null object\n",
      "점포명     363 non-null object\n",
      "전화번호    363 non-null object\n",
      "팩스      363 non-null object\n",
      "우편번호    363 non-null object\n",
      "주소      363 non-null object\n",
      "dtypes: object(7)\n",
      "memory usage: 22.7+ KB\n"
     ]
    }
   ],
   "source": [
    "df_SC = df[df.은행명 == 'ＳＣ제일']\n",
    "df_SC.info()"
   ]
  },
  {
   "cell_type": "code",
   "execution_count": 19,
   "metadata": {},
   "outputs": [
    {
     "data": {
      "text/html": [
       "<div>\n",
       "<style scoped>\n",
       "    .dataframe tbody tr th:only-of-type {\n",
       "        vertical-align: middle;\n",
       "    }\n",
       "\n",
       "    .dataframe tbody tr th {\n",
       "        vertical-align: top;\n",
       "    }\n",
       "\n",
       "    .dataframe thead th {\n",
       "        text-align: right;\n",
       "    }\n",
       "</style>\n",
       "<table border=\"1\" class=\"dataframe\">\n",
       "  <thead>\n",
       "    <tr style=\"text-align: right;\">\n",
       "      <th></th>\n",
       "      <th>은행코드</th>\n",
       "      <th>은행명</th>\n",
       "      <th>점포명</th>\n",
       "      <th>전화번호</th>\n",
       "      <th>팩스</th>\n",
       "      <th>우편번호</th>\n",
       "      <th>주소</th>\n",
       "    </tr>\n",
       "  </thead>\n",
       "  <tbody>\n",
       "    <tr>\n",
       "      <th>12548</th>\n",
       "      <td>0230003</td>\n",
       "      <td>ＳＣ제일</td>\n",
       "      <td>본부총괄</td>\n",
       "      <td>02 733 3114</td>\n",
       "      <td>0 0 0</td>\n",
       "      <td>110702</td>\n",
       "      <td>서울　종로구공평동１００</td>\n",
       "    </tr>\n",
       "    <tr>\n",
       "      <th>12549</th>\n",
       "      <td>0230016</td>\n",
       "      <td>ＳＣ제일</td>\n",
       "      <td>임원실</td>\n",
       "      <td>02 37023114</td>\n",
       "      <td>0 0 0</td>\n",
       "      <td>110702</td>\n",
       "      <td>서울　종로구공평동１００</td>\n",
       "    </tr>\n",
       "    <tr>\n",
       "      <th>12550</th>\n",
       "      <td>0230029</td>\n",
       "      <td>ＳＣ제일</td>\n",
       "      <td>은행공통경비점</td>\n",
       "      <td>02 37023114</td>\n",
       "      <td>02 37020000</td>\n",
       "      <td>03160</td>\n",
       "      <td>서울특별시　종로구　종로　４７　ＳＣ은행</td>\n",
       "    </tr>\n",
       "  </tbody>\n",
       "</table>\n",
       "</div>"
      ],
      "text/plain": [
       "          은행코드   은행명      점포명         전화번호           팩스    우편번호  \\\n",
       "12548  0230003  ＳＣ제일     본부총괄  02 733 3114        0 0 0  110702   \n",
       "12549  0230016  ＳＣ제일      임원실  02 37023114        0 0 0  110702   \n",
       "12550  0230029  ＳＣ제일  은행공통경비점  02 37023114  02 37020000   03160   \n",
       "\n",
       "                         주소  \n",
       "12548          서울　종로구공평동１００  \n",
       "12549          서울　종로구공평동１００  \n",
       "12550  서울특별시　종로구　종로　４７　ＳＣ은행  "
      ]
     },
     "execution_count": 19,
     "metadata": {},
     "output_type": "execute_result"
    }
   ],
   "source": [
    "df_SC.head(3)"
   ]
  },
  {
   "cell_type": "code",
   "execution_count": 20,
   "metadata": {},
   "outputs": [],
   "source": [
    "code_eng_dict = { \n",
    "    'Ａ':'A',\n",
    "    'Ｂ':'B',\n",
    "    'Ｃ':'C',\n",
    "    'Ｄ':'D',\n",
    "    'Ｅ':'E',\n",
    "    'Ｆ':'F',\n",
    "    'Ｇ':'G',\n",
    "    'Ｈ':'H',\n",
    "    'Ｉ':'I',\n",
    "    'Ｊ':'J',\n",
    "    'Ｋ':'K',\n",
    "    'Ｌ':'L',\n",
    "    'Ｍ':'M',\n",
    "    'Ｎ':'N',\n",
    "    'Ｏ':'O',\n",
    "    'Ｐ':'P',\n",
    "    'Ｑ':'Q',\n",
    "    'Ｒ':'R',\n",
    "    'Ｓ':'S',\n",
    "    'Ｔ':'T',\n",
    "    'Ｕ':'U',\n",
    "    'Ｖ':'V',\n",
    "    'Ｗ':'W',\n",
    "    'Ｘ':'X',\n",
    "    'Ｙ':'Y',\n",
    "    'Ｚ':'Z' }"
   ]
  },
  {
   "cell_type": "code",
   "execution_count": 21,
   "metadata": {},
   "outputs": [],
   "source": [
    "df_SC['주소_변환'] = df_SC.주소.apply(lambda x : x)\n",
    "df_SC['주소_변환'] = df_SC.주소_변환.apply(lambda x: x.replace('０', '0')\n",
    "                                     .replace('１', '1')\n",
    "                                     .replace('２', '2')\n",
    "                                     .replace('３', '3')\n",
    "                                     .replace('４', '4')\n",
    "                                     .replace('５', '5')\n",
    "                                     .replace('６', '6')\n",
    "                                     .replace('７', '7')\n",
    "                                     .replace('８', '8')\n",
    "                                     .replace('９', '9')\n",
    "                                     .replace('\\u3000', ' ')\n",
    "                                    .replace('（','(')\n",
    "                                    .replace('）',')')\n",
    "                                    )\n",
    "df_SC['주소_변환'] = df_SC.주소_변환.apply(lambda x: \n",
    "                                   x.replace('Ａ', 'A')\n",
    "                                   .replace('Ｂ', 'B')\n",
    "                                   .replace('Ｃ', 'C')\n",
    "                                   .replace('Ｄ', 'D')\n",
    "                                   .replace('Ｅ', 'E')\n",
    "                                   .replace('Ｆ', 'F')\n",
    "                                   .replace('Ｇ', 'G')\n",
    "                                   .replace('Ｈ', 'H')\n",
    "                                   .replace('Ｉ', 'I')\n",
    "                                   .replace('Ｊ', 'J')\n",
    "                                   .replace('Ｋ', 'K')\n",
    "                                   .replace('Ｌ', 'L')\n",
    "                                   .replace('Ｍ', 'M')\n",
    "                                   .replace('Ｎ', 'N')\n",
    "                                   .replace('Ｏ', 'O')\n",
    "                                   .replace('Ｐ', 'P')\n",
    "                                   .replace('Ｑ', 'Q')\n",
    "                                   .replace('Ｒ', 'R')\n",
    "                                   .replace('Ｓ', 'S')\n",
    "                                   .replace('Ｔ', 'T')\n",
    "                                   .replace('Ｕ', 'U')\n",
    "                                   .replace('Ｖ', 'V')\n",
    "                                   .replace('Ｗ', 'W')\n",
    "                                   .replace('Ｘ', 'X')\n",
    "                                   .replace('Ｙ', 'Y')\n",
    "                                   .replace('Ｚ', 'Z')\n",
    "                                  )"
   ]
  },
  {
   "cell_type": "code",
   "execution_count": 22,
   "metadata": {},
   "outputs": [],
   "source": [
    "df_SC.drop(['주소','전화번호','팩스','우편번호'], axis = 1, inplace = True)"
   ]
  },
  {
   "cell_type": "code",
   "execution_count": 23,
   "metadata": {
    "scrolled": true
   },
   "outputs": [
    {
     "data": {
      "text/html": [
       "<div>\n",
       "<style scoped>\n",
       "    .dataframe tbody tr th:only-of-type {\n",
       "        vertical-align: middle;\n",
       "    }\n",
       "\n",
       "    .dataframe tbody tr th {\n",
       "        vertical-align: top;\n",
       "    }\n",
       "\n",
       "    .dataframe thead th {\n",
       "        text-align: right;\n",
       "    }\n",
       "</style>\n",
       "<table border=\"1\" class=\"dataframe\">\n",
       "  <thead>\n",
       "    <tr style=\"text-align: right;\">\n",
       "      <th></th>\n",
       "      <th>은행코드</th>\n",
       "      <th>은행명</th>\n",
       "      <th>점포명</th>\n",
       "      <th>주소_변환</th>\n",
       "    </tr>\n",
       "  </thead>\n",
       "  <tbody>\n",
       "    <tr>\n",
       "      <th>12548</th>\n",
       "      <td>0230003</td>\n",
       "      <td>ＳＣ제일</td>\n",
       "      <td>본부총괄</td>\n",
       "      <td>서울 종로구공평동100</td>\n",
       "    </tr>\n",
       "    <tr>\n",
       "      <th>12549</th>\n",
       "      <td>0230016</td>\n",
       "      <td>ＳＣ제일</td>\n",
       "      <td>임원실</td>\n",
       "      <td>서울 종로구공평동100</td>\n",
       "    </tr>\n",
       "    <tr>\n",
       "      <th>12550</th>\n",
       "      <td>0230029</td>\n",
       "      <td>ＳＣ제일</td>\n",
       "      <td>은행공통경비점</td>\n",
       "      <td>서울특별시 종로구 종로 47 SC은행</td>\n",
       "    </tr>\n",
       "  </tbody>\n",
       "</table>\n",
       "</div>"
      ],
      "text/plain": [
       "          은행코드   은행명      점포명                 주소_변환\n",
       "12548  0230003  ＳＣ제일     본부총괄          서울 종로구공평동100\n",
       "12549  0230016  ＳＣ제일      임원실          서울 종로구공평동100\n",
       "12550  0230029  ＳＣ제일  은행공통경비점  서울특별시 종로구 종로 47 SC은행"
      ]
     },
     "execution_count": 23,
     "metadata": {},
     "output_type": "execute_result"
    }
   ],
   "source": [
    "df_SC.head(3)"
   ]
  },
  {
   "cell_type": "markdown",
   "metadata": {},
   "source": [
    "## 국민은행 데이터 전처리"
   ]
  },
  {
   "cell_type": "code",
   "execution_count": 24,
   "metadata": {},
   "outputs": [
    {
     "name": "stdout",
     "output_type": "stream",
     "text": [
      "<class 'pandas.core.frame.DataFrame'>\n",
      "Int64Index: 1721 entries, 988 to 23900\n",
      "Data columns (total 7 columns):\n",
      "은행코드    1721 non-null object\n",
      "은행명     1721 non-null object\n",
      "점포명     1721 non-null object\n",
      "전화번호    1721 non-null object\n",
      "팩스      1721 non-null object\n",
      "우편번호    1721 non-null object\n",
      "주소      1721 non-null object\n",
      "dtypes: object(7)\n",
      "memory usage: 107.6+ KB\n"
     ]
    }
   ],
   "source": [
    "df_kb = df[df.은행명 == '국민']\n",
    "df_kb.info()"
   ]
  },
  {
   "cell_type": "code",
   "execution_count": 25,
   "metadata": {},
   "outputs": [
    {
     "data": {
      "text/html": [
       "<div>\n",
       "<style scoped>\n",
       "    .dataframe tbody tr th:only-of-type {\n",
       "        vertical-align: middle;\n",
       "    }\n",
       "\n",
       "    .dataframe tbody tr th {\n",
       "        vertical-align: top;\n",
       "    }\n",
       "\n",
       "    .dataframe thead th {\n",
       "        text-align: right;\n",
       "    }\n",
       "</style>\n",
       "<table border=\"1\" class=\"dataframe\">\n",
       "  <thead>\n",
       "    <tr style=\"text-align: right;\">\n",
       "      <th></th>\n",
       "      <th>은행코드</th>\n",
       "      <th>은행명</th>\n",
       "      <th>점포명</th>\n",
       "      <th>전화번호</th>\n",
       "      <th>팩스</th>\n",
       "      <th>우편번호</th>\n",
       "      <th>주소</th>\n",
       "    </tr>\n",
       "  </thead>\n",
       "  <tbody>\n",
       "    <tr>\n",
       "      <th>988</th>\n",
       "      <td>0040015</td>\n",
       "      <td>국민</td>\n",
       "      <td>명동영업부</td>\n",
       "      <td>02 20737114</td>\n",
       "      <td>02 20732214</td>\n",
       "      <td>04534</td>\n",
       "      <td>서울　중구　남대문로　８４，　국민은행명동본점　（남대문로２가）</td>\n",
       "    </tr>\n",
       "    <tr>\n",
       "      <th>989</th>\n",
       "      <td>0040028</td>\n",
       "      <td>국민</td>\n",
       "      <td>남대문종합금융센터</td>\n",
       "      <td>02 777 8171</td>\n",
       "      <td>02 310 5410</td>\n",
       "      <td>04526</td>\n",
       "      <td>서울　중구　세종대로　５０　（남대문로４가）</td>\n",
       "    </tr>\n",
       "    <tr>\n",
       "      <th>990</th>\n",
       "      <td>0040031</td>\n",
       "      <td>국민</td>\n",
       "      <td>중부</td>\n",
       "      <td>02 22662183</td>\n",
       "      <td>02 22720598</td>\n",
       "      <td>04555</td>\n",
       "      <td>서울　중구　충무로　２９　（초동）</td>\n",
       "    </tr>\n",
       "  </tbody>\n",
       "</table>\n",
       "</div>"
      ],
      "text/plain": [
       "        은행코드 은행명        점포명         전화번호           팩스   우편번호  \\\n",
       "988  0040015  국민      명동영업부  02 20737114  02 20732214  04534   \n",
       "989  0040028  국민  남대문종합금융센터  02 777 8171  02 310 5410  04526   \n",
       "990  0040031  국민         중부  02 22662183  02 22720598  04555   \n",
       "\n",
       "                                   주소  \n",
       "988  서울　중구　남대문로　８４，　국민은행명동본점　（남대문로２가）  \n",
       "989            서울　중구　세종대로　５０　（남대문로４가）  \n",
       "990                 서울　중구　충무로　２９　（초동）  "
      ]
     },
     "execution_count": 25,
     "metadata": {},
     "output_type": "execute_result"
    }
   ],
   "source": [
    "df_kb.head(3)"
   ]
  },
  {
   "cell_type": "code",
   "execution_count": 26,
   "metadata": {},
   "outputs": [],
   "source": [
    "df_kb['주소_변환'] = df_kb.주소.apply(lambda x : x)\n",
    "df_kb['주소_변환'] = df_kb.주소_변환.apply(lambda x: x.replace('０', '0')\n",
    "                                     .replace('１', '1')\n",
    "                                     .replace('２', '2')\n",
    "                                     .replace('３', '3')\n",
    "                                     .replace('４', '4')\n",
    "                                     .replace('５', '5')\n",
    "                                     .replace('６', '6')\n",
    "                                     .replace('７', '7')\n",
    "                                     .replace('８', '8')\n",
    "                                     .replace('９', '9')\n",
    "                                     .replace('\\u3000', ' ')\n",
    "                                    .replace('（','(')\n",
    "                                    .replace('）',')')\n",
    "                                    )\n",
    "df_kb['주소_변환'] = df_kb.주소_변환.apply(lambda x: \n",
    "                                   x.replace('Ａ', 'A')\n",
    "                                   .replace('Ｂ', 'B')\n",
    "                                   .replace('Ｃ', 'C')\n",
    "                                   .replace('Ｄ', 'D')\n",
    "                                   .replace('Ｅ', 'E')\n",
    "                                   .replace('Ｆ', 'F')\n",
    "                                   .replace('Ｇ', 'G')\n",
    "                                   .replace('Ｈ', 'H')\n",
    "                                   .replace('Ｉ', 'I')\n",
    "                                   .replace('Ｊ', 'J')\n",
    "                                   .replace('Ｋ', 'K')\n",
    "                                   .replace('Ｌ', 'L')\n",
    "                                   .replace('Ｍ', 'M')\n",
    "                                   .replace('Ｎ', 'N')\n",
    "                                   .replace('Ｏ', 'O')\n",
    "                                   .replace('Ｐ', 'P')\n",
    "                                   .replace('Ｑ', 'Q')\n",
    "                                   .replace('Ｒ', 'R')\n",
    "                                   .replace('Ｓ', 'S')\n",
    "                                   .replace('Ｔ', 'T')\n",
    "                                   .replace('Ｕ', 'U')\n",
    "                                   .replace('Ｖ', 'V')\n",
    "                                   .replace('Ｗ', 'W')\n",
    "                                   .replace('Ｘ', 'X')\n",
    "                                   .replace('Ｙ', 'Y')\n",
    "                                   .replace('Ｚ', 'Z')\n",
    "                                  )"
   ]
  },
  {
   "cell_type": "code",
   "execution_count": 27,
   "metadata": {},
   "outputs": [],
   "source": [
    "df_kb.drop(['주소','전화번호','팩스','우편번호'], axis = 1, inplace = True)"
   ]
  },
  {
   "cell_type": "code",
   "execution_count": 28,
   "metadata": {},
   "outputs": [
    {
     "data": {
      "text/html": [
       "<div>\n",
       "<style scoped>\n",
       "    .dataframe tbody tr th:only-of-type {\n",
       "        vertical-align: middle;\n",
       "    }\n",
       "\n",
       "    .dataframe tbody tr th {\n",
       "        vertical-align: top;\n",
       "    }\n",
       "\n",
       "    .dataframe thead th {\n",
       "        text-align: right;\n",
       "    }\n",
       "</style>\n",
       "<table border=\"1\" class=\"dataframe\">\n",
       "  <thead>\n",
       "    <tr style=\"text-align: right;\">\n",
       "      <th></th>\n",
       "      <th>은행코드</th>\n",
       "      <th>은행명</th>\n",
       "      <th>점포명</th>\n",
       "      <th>주소_변환</th>\n",
       "    </tr>\n",
       "  </thead>\n",
       "  <tbody>\n",
       "    <tr>\n",
       "      <th>988</th>\n",
       "      <td>0040015</td>\n",
       "      <td>국민</td>\n",
       "      <td>명동영업부</td>\n",
       "      <td>서울 중구 남대문로 84， 국민은행명동본점 (남대문로2가)</td>\n",
       "    </tr>\n",
       "    <tr>\n",
       "      <th>989</th>\n",
       "      <td>0040028</td>\n",
       "      <td>국민</td>\n",
       "      <td>남대문종합금융센터</td>\n",
       "      <td>서울 중구 세종대로 50 (남대문로4가)</td>\n",
       "    </tr>\n",
       "    <tr>\n",
       "      <th>990</th>\n",
       "      <td>0040031</td>\n",
       "      <td>국민</td>\n",
       "      <td>중부</td>\n",
       "      <td>서울 중구 충무로 29 (초동)</td>\n",
       "    </tr>\n",
       "  </tbody>\n",
       "</table>\n",
       "</div>"
      ],
      "text/plain": [
       "        은행코드 은행명        점포명                             주소_변환\n",
       "988  0040015  국민      명동영업부  서울 중구 남대문로 84， 국민은행명동본점 (남대문로2가)\n",
       "989  0040028  국민  남대문종합금융센터            서울 중구 세종대로 50 (남대문로4가)\n",
       "990  0040031  국민         중부                 서울 중구 충무로 29 (초동)"
      ]
     },
     "execution_count": 28,
     "metadata": {},
     "output_type": "execute_result"
    }
   ],
   "source": [
    "df_kb.head(3)"
   ]
  },
  {
   "cell_type": "markdown",
   "metadata": {},
   "source": [
    "## 우리은행 데이터 전처리"
   ]
  },
  {
   "cell_type": "code",
   "execution_count": 29,
   "metadata": {},
   "outputs": [
    {
     "name": "stdout",
     "output_type": "stream",
     "text": [
      "<class 'pandas.core.frame.DataFrame'>\n",
      "Int64Index: 1126 entries, 11191 to 25314\n",
      "Data columns (total 7 columns):\n",
      "은행코드    1126 non-null object\n",
      "은행명     1126 non-null object\n",
      "점포명     1126 non-null object\n",
      "전화번호    1126 non-null object\n",
      "팩스      1084 non-null object\n",
      "우편번호    1111 non-null object\n",
      "주소      1126 non-null object\n",
      "dtypes: object(7)\n",
      "memory usage: 70.4+ KB\n"
     ]
    }
   ],
   "source": [
    "df_wri = df[df.은행명 == '우리']\n",
    "df_wri.info()"
   ]
  },
  {
   "cell_type": "code",
   "execution_count": 30,
   "metadata": {},
   "outputs": [
    {
     "data": {
      "text/html": [
       "<div>\n",
       "<style scoped>\n",
       "    .dataframe tbody tr th:only-of-type {\n",
       "        vertical-align: middle;\n",
       "    }\n",
       "\n",
       "    .dataframe tbody tr th {\n",
       "        vertical-align: top;\n",
       "    }\n",
       "\n",
       "    .dataframe thead th {\n",
       "        text-align: right;\n",
       "    }\n",
       "</style>\n",
       "<table border=\"1\" class=\"dataframe\">\n",
       "  <thead>\n",
       "    <tr style=\"text-align: right;\">\n",
       "      <th></th>\n",
       "      <th>은행코드</th>\n",
       "      <th>은행명</th>\n",
       "      <th>점포명</th>\n",
       "      <th>전화번호</th>\n",
       "      <th>팩스</th>\n",
       "      <th>우편번호</th>\n",
       "      <th>주소</th>\n",
       "    </tr>\n",
       "  </thead>\n",
       "  <tbody>\n",
       "    <tr>\n",
       "      <th>11191</th>\n",
       "      <td>0200017</td>\n",
       "      <td>우리</td>\n",
       "      <td>영업부</td>\n",
       "      <td>02 20023000</td>\n",
       "      <td>0505001 3002</td>\n",
       "      <td>100792</td>\n",
       "      <td>서울특별시　중구　소공로　５１</td>\n",
       "    </tr>\n",
       "    <tr>\n",
       "      <th>11192</th>\n",
       "      <td>0200020</td>\n",
       "      <td>우리</td>\n",
       "      <td>부산지역센터</td>\n",
       "      <td>051 806 9470</td>\n",
       "      <td>NaN</td>\n",
       "      <td>614032</td>\n",
       "      <td>부산　부산진구　부전２동　２５４－１</td>\n",
       "    </tr>\n",
       "    <tr>\n",
       "      <th>11193</th>\n",
       "      <td>0200046</td>\n",
       "      <td>우리</td>\n",
       "      <td>명동금융센터</td>\n",
       "      <td>02 774 4011</td>\n",
       "      <td>02 756 0897</td>\n",
       "      <td>100809</td>\n",
       "      <td>서울특별시　중구　명동길　４２</td>\n",
       "    </tr>\n",
       "  </tbody>\n",
       "</table>\n",
       "</div>"
      ],
      "text/plain": [
       "          은행코드 은행명     점포명          전화번호            팩스    우편번호  \\\n",
       "11191  0200017  우리     영업부   02 20023000  0505001 3002  100792   \n",
       "11192  0200020  우리  부산지역센터  051 806 9470           NaN  614032   \n",
       "11193  0200046  우리  명동금융센터   02 774 4011   02 756 0897  100809   \n",
       "\n",
       "                       주소  \n",
       "11191     서울특별시　중구　소공로　５１  \n",
       "11192  부산　부산진구　부전２동　２５４－１  \n",
       "11193     서울특별시　중구　명동길　４２  "
      ]
     },
     "execution_count": 30,
     "metadata": {},
     "output_type": "execute_result"
    }
   ],
   "source": [
    "df_wri.head(3)"
   ]
  },
  {
   "cell_type": "code",
   "execution_count": 31,
   "metadata": {},
   "outputs": [],
   "source": [
    "df_wri['주소_변환'] = df_wri.주소.apply(lambda x : x)\n",
    "df_wri['주소_변환'] = df_wri.주소_변환.apply(lambda x: x.replace('０', '0')\n",
    "                                     .replace('１', '1')\n",
    "                                     .replace('２', '2')\n",
    "                                     .replace('３', '3')\n",
    "                                     .replace('４', '4')\n",
    "                                     .replace('５', '5')\n",
    "                                     .replace('６', '6')\n",
    "                                     .replace('７', '7')\n",
    "                                     .replace('８', '8')\n",
    "                                     .replace('９', '9')\n",
    "                                     .replace('\\u3000', ' ')\n",
    "                                    .replace('（','(')\n",
    "                                    .replace('）',')')\n",
    "                                    )\n",
    "df_wri['주소_변환'] = df_wri.주소_변환.apply(lambda x: \n",
    "                                   x.replace('Ａ', 'A')\n",
    "                                   .replace('Ｂ', 'B')\n",
    "                                   .replace('Ｃ', 'C')\n",
    "                                   .replace('Ｄ', 'D')\n",
    "                                   .replace('Ｅ', 'E')\n",
    "                                   .replace('Ｆ', 'F')\n",
    "                                   .replace('Ｇ', 'G')\n",
    "                                   .replace('Ｈ', 'H')\n",
    "                                   .replace('Ｉ', 'I')\n",
    "                                   .replace('Ｊ', 'J')\n",
    "                                   .replace('Ｋ', 'K')\n",
    "                                   .replace('Ｌ', 'L')\n",
    "                                   .replace('Ｍ', 'M')\n",
    "                                   .replace('Ｎ', 'N')\n",
    "                                   .replace('Ｏ', 'O')\n",
    "                                   .replace('Ｐ', 'P')\n",
    "                                   .replace('Ｑ', 'Q')\n",
    "                                   .replace('Ｒ', 'R')\n",
    "                                   .replace('Ｓ', 'S')\n",
    "                                   .replace('Ｔ', 'T')\n",
    "                                   .replace('Ｕ', 'U')\n",
    "                                   .replace('Ｖ', 'V')\n",
    "                                   .replace('Ｗ', 'W')\n",
    "                                   .replace('Ｘ', 'X')\n",
    "                                   .replace('Ｙ', 'Y')\n",
    "                                   .replace('Ｚ', 'Z')\n",
    "                                  )"
   ]
  },
  {
   "cell_type": "code",
   "execution_count": 32,
   "metadata": {},
   "outputs": [],
   "source": [
    "df_wri.drop(['주소','전화번호','팩스','우편번호'], axis = 1, inplace = True)"
   ]
  },
  {
   "cell_type": "code",
   "execution_count": 33,
   "metadata": {},
   "outputs": [
    {
     "data": {
      "text/html": [
       "<div>\n",
       "<style scoped>\n",
       "    .dataframe tbody tr th:only-of-type {\n",
       "        vertical-align: middle;\n",
       "    }\n",
       "\n",
       "    .dataframe tbody tr th {\n",
       "        vertical-align: top;\n",
       "    }\n",
       "\n",
       "    .dataframe thead th {\n",
       "        text-align: right;\n",
       "    }\n",
       "</style>\n",
       "<table border=\"1\" class=\"dataframe\">\n",
       "  <thead>\n",
       "    <tr style=\"text-align: right;\">\n",
       "      <th></th>\n",
       "      <th>은행코드</th>\n",
       "      <th>은행명</th>\n",
       "      <th>점포명</th>\n",
       "      <th>주소_변환</th>\n",
       "    </tr>\n",
       "  </thead>\n",
       "  <tbody>\n",
       "    <tr>\n",
       "      <th>11191</th>\n",
       "      <td>0200017</td>\n",
       "      <td>우리</td>\n",
       "      <td>영업부</td>\n",
       "      <td>서울특별시 중구 소공로 51</td>\n",
       "    </tr>\n",
       "    <tr>\n",
       "      <th>11192</th>\n",
       "      <td>0200020</td>\n",
       "      <td>우리</td>\n",
       "      <td>부산지역센터</td>\n",
       "      <td>부산 부산진구 부전2동 254－1</td>\n",
       "    </tr>\n",
       "    <tr>\n",
       "      <th>11193</th>\n",
       "      <td>0200046</td>\n",
       "      <td>우리</td>\n",
       "      <td>명동금융센터</td>\n",
       "      <td>서울특별시 중구 명동길 42</td>\n",
       "    </tr>\n",
       "    <tr>\n",
       "      <th>11194</th>\n",
       "      <td>0200059</td>\n",
       "      <td>우리</td>\n",
       "      <td>중부금융센터</td>\n",
       "      <td>서울특별시 중구 수표로 34 (저동2가， 쌍용빌딩)</td>\n",
       "    </tr>\n",
       "    <tr>\n",
       "      <th>11195</th>\n",
       "      <td>0200062</td>\n",
       "      <td>우리</td>\n",
       "      <td>소공동</td>\n",
       "      <td>서울특별시 중구 남대문로 63</td>\n",
       "    </tr>\n",
       "  </tbody>\n",
       "</table>\n",
       "</div>"
      ],
      "text/plain": [
       "          은행코드 은행명     점포명                         주소_변환\n",
       "11191  0200017  우리     영업부               서울특별시 중구 소공로 51\n",
       "11192  0200020  우리  부산지역센터            부산 부산진구 부전2동 254－1\n",
       "11193  0200046  우리  명동금융센터               서울특별시 중구 명동길 42\n",
       "11194  0200059  우리  중부금융센터  서울특별시 중구 수표로 34 (저동2가， 쌍용빌딩)\n",
       "11195  0200062  우리     소공동              서울특별시 중구 남대문로 63"
      ]
     },
     "execution_count": 33,
     "metadata": {},
     "output_type": "execute_result"
    }
   ],
   "source": [
    "df_wri.head()"
   ]
  },
  {
   "cell_type": "markdown",
   "metadata": {},
   "source": [
    "## 은행 데이터 통합"
   ]
  },
  {
   "cell_type": "code",
   "execution_count": 42,
   "metadata": {},
   "outputs": [],
   "source": [
    "df_bank = df_ibk.append(df_SC, ignore_index = True)\n",
    "df_bank = df_bank.append(df_kb, ignore_index = True)\n",
    "df_bank = df_bank.append(df_wri, ignore_index = True)"
   ]
  },
  {
   "cell_type": "code",
   "execution_count": 43,
   "metadata": {},
   "outputs": [
    {
     "name": "stdout",
     "output_type": "stream",
     "text": [
      "<class 'pandas.core.frame.DataFrame'>\n",
      "RangeIndex: 4011 entries, 0 to 4010\n",
      "Data columns (total 4 columns):\n",
      "은행코드     4011 non-null object\n",
      "은행명      4011 non-null object\n",
      "점포명      4011 non-null object\n",
      "주소_변환    4011 non-null object\n",
      "dtypes: object(4)\n",
      "memory usage: 125.4+ KB\n"
     ]
    }
   ],
   "source": [
    "df_bank.info()"
   ]
  },
  {
   "cell_type": "code",
   "execution_count": 36,
   "metadata": {},
   "outputs": [
    {
     "data": {
      "text/plain": [
       "array(['기업', 'ＳＣ제일', '국민', '우리'], dtype=object)"
      ]
     },
     "execution_count": 36,
     "metadata": {},
     "output_type": "execute_result"
    }
   ],
   "source": [
    "df_bank.은행명.unique()"
   ]
  },
  {
   "cell_type": "code",
   "execution_count": 37,
   "metadata": {},
   "outputs": [
    {
     "data": {
      "text/plain": [
       "국민      1721\n",
       "우리      1126\n",
       "기업       801\n",
       "ＳＣ제일     363\n",
       "Name: 은행명, dtype: int64"
      ]
     },
     "execution_count": 37,
     "metadata": {},
     "output_type": "execute_result"
    }
   ],
   "source": [
    "df_bank.은행명.value_counts()"
   ]
  },
  {
   "cell_type": "code",
   "execution_count": 38,
   "metadata": {},
   "outputs": [
    {
     "data": {
      "image/png": "[encoded data removed]",
      "text/plain": [
       "<matplotlib.figure.Figure at 0x2a7715c9c88>"
      ]
     },
     "metadata": {},
     "output_type": "display_data"
    }
   ],
   "source": [
    "plt.figure(figsize = (7,10))\n",
    "plt.bar(x = df_bank.은행명.value_counts().index,\n",
    "       height = df_bank.은행명.value_counts().values)\n",
    "plt.show()"
   ]
  },
  {
   "cell_type": "markdown",
   "metadata": {},
   "source": [
    "## 네이버 API를 통해서 정확한 주소 및 좌표 검색"
   ]
  },
  {
   "cell_type": "code",
   "execution_count": 39,
   "metadata": {},
   "outputs": [],
   "source": [
    "client_id = \"******\"\n",
    "client_secret = \"******\""
   ]
  },
  {
   "cell_type": "code",
   "execution_count": 40,
   "metadata": {},
   "outputs": [],
   "source": [
    "def address_to_axis(address):\n",
    "    encText = urllib.parse.quote(address)\n",
    "    url = \"https://openapi.naver.com/v1/map/geocode?query=\" + encText # json 결과\n",
    "\n",
    "    request = urllib.request.Request(url)\n",
    "    request.add_header(\"X-Naver-Client-Id\",client_id)\n",
    "    request.add_header(\"X-Naver-Client-Secret\",client_secret)\n",
    "    response = urllib.request.urlopen(request)\n",
    "    rescode = response.getcode()\n",
    "    \n",
    "    if(rescode==200):\n",
    "        data_info = json.load(response)\n",
    "        address_info = data_info['result']['items'][0]['address']\n",
    "        axis_x = data_info['result']['items'][0]['point']['x']\n",
    "        axis_y = data_info['result']['items'][0]['point']['y']\n",
    "        \n",
    "    else:\n",
    "        address_info = 'ERROR_CODE'\n",
    "        axis_x = 'ERROR_CODE'\n",
    "        axis_y = 'ERROR_CODE'\n",
    "        \n",
    "    return (address_info, axis_x, axis_y)"
   ]
  },
  {
   "cell_type": "code",
   "execution_count": 74,
   "metadata": {},
   "outputs": [
    {
     "name": "stdout",
     "output_type": "stream",
     "text": [
      "<class 'pandas.core.frame.DataFrame'>\n",
      "RangeIndex: 4011 entries, 0 to 4010\n",
      "Data columns (total 3 columns):\n",
      "주소        4011 non-null object\n",
      "x_axis    4011 non-null object\n",
      "y_axis    4011 non-null object\n",
      "dtypes: object(3)\n",
      "memory usage: 94.1+ KB\n"
     ]
    }
   ],
   "source": [
    "df_bank_temp = pd.DataFrame(columns = ['주소', 'x_axis', 'y_axis'])\n",
    "\n",
    "for _ in df_bank.주소_변환:\n",
    "    try:\n",
    "        add_info, x_ax, y_ax = address_to_axis(_)\n",
    "    except:\n",
    "        add_info, x_ax, y_ax = ('ERROR_CODE', 'ERROR_CODE', 'ERROR_CODE')\n",
    "    df_bank_temp = df_bank_temp.append({'주소': add_info, 'x_axis':x_ax, 'y_axis':y_ax}, ignore_index = True)\n",
    "\n",
    "gc.collect()\n",
    "\n",
    "df_bank_temp.info()"
   ]
  },
  {
   "cell_type": "code",
   "execution_count": 75,
   "metadata": {},
   "outputs": [
    {
     "data": {
      "text/html": [
       "<div>\n",
       "<style scoped>\n",
       "    .dataframe tbody tr th:only-of-type {\n",
       "        vertical-align: middle;\n",
       "    }\n",
       "\n",
       "    .dataframe tbody tr th {\n",
       "        vertical-align: top;\n",
       "    }\n",
       "\n",
       "    .dataframe thead th {\n",
       "        text-align: right;\n",
       "    }\n",
       "</style>\n",
       "<table border=\"1\" class=\"dataframe\">\n",
       "  <thead>\n",
       "    <tr style=\"text-align: right;\">\n",
       "      <th></th>\n",
       "      <th>주소</th>\n",
       "      <th>x_axis</th>\n",
       "      <th>y_axis</th>\n",
       "    </tr>\n",
       "  </thead>\n",
       "  <tbody>\n",
       "    <tr>\n",
       "      <th>0</th>\n",
       "      <td>서울특별시 중구 을지로2가 50</td>\n",
       "      <td>126.987</td>\n",
       "      <td>37.5665</td>\n",
       "    </tr>\n",
       "    <tr>\n",
       "      <th>1</th>\n",
       "      <td>서울특별시 중구 을지로 79 기업은행</td>\n",
       "      <td>126.987</td>\n",
       "      <td>37.5665</td>\n",
       "    </tr>\n",
       "    <tr>\n",
       "      <th>2</th>\n",
       "      <td>서울특별시 종로구 종로 189 IBK기업은행</td>\n",
       "      <td>126.999</td>\n",
       "      <td>37.5711</td>\n",
       "    </tr>\n",
       "    <tr>\n",
       "      <th>3</th>\n",
       "      <td>서울특별시 노원구 덕릉로 690 기업은행</td>\n",
       "      <td>127.076</td>\n",
       "      <td>37.6592</td>\n",
       "    </tr>\n",
       "    <tr>\n",
       "      <th>4</th>\n",
       "      <td>서울특별시 강북구 삼양로 511 기업은행</td>\n",
       "      <td>127.014</td>\n",
       "      <td>37.6487</td>\n",
       "    </tr>\n",
       "  </tbody>\n",
       "</table>\n",
       "</div>"
      ],
      "text/plain": [
       "                         주소   x_axis   y_axis\n",
       "0         서울특별시 중구 을지로2가 50  126.987  37.5665\n",
       "1      서울특별시 중구 을지로 79 기업은행  126.987  37.5665\n",
       "2  서울특별시 종로구 종로 189 IBK기업은행  126.999  37.5711\n",
       "3    서울특별시 노원구 덕릉로 690 기업은행  127.076  37.6592\n",
       "4    서울특별시 강북구 삼양로 511 기업은행  127.014  37.6487"
      ]
     },
     "execution_count": 75,
     "metadata": {},
     "output_type": "execute_result"
    }
   ],
   "source": [
    "df_bank_temp.head()"
   ]
  },
  {
   "cell_type": "code",
   "execution_count": 86,
   "metadata": {},
   "outputs": [],
   "source": [
    "df_merged = pd.merge(df_bank.reset_index(), df_bank_temp.reset_index(), on = 'index', how = 'left')"
   ]
  },
  {
   "cell_type": "code",
   "execution_count": 94,
   "metadata": {},
   "outputs": [],
   "source": [
    "# 1차 전처리 완료\n",
    "# ERROR_CODE는 regrex로 해결하기\n",
    "\n",
    "df_merged.to_csv(\"preprocess_data_bank.csv\", index = False, encoding = 'cp949')"
   ]
  }
 ],
 "metadata": {
  "kernelspec": {
   "display_name": "Python 3",
   "language": "python",
   "name": "python3"
  },
  "language_info": {
   "codemirror_mode": {
    "name": "ipython",
    "version": 3
   },
   "file_extension": ".py",
   "mimetype": "text/x-python",
   "name": "python",
   "nbconvert_exporter": "python",
   "pygments_lexer": "ipython3",
   "version": "3.6.4"
  }
 },
 "nbformat": 4,
 "nbformat_minor": 2
}
