{
 "cells": [
  {
   "cell_type": "code",
   "execution_count": 1,
   "metadata": {},
   "outputs": [],
   "source": [
    "import pandas as pd\n",
    "import gc\n",
    "\n",
    "import os\n",
    "import sys\n",
    "import urllib.request\n",
    "import json"
   ]
  },
  {
   "cell_type": "code",
   "execution_count": 2,
   "metadata": {},
   "outputs": [],
   "source": [
    "df = pd.read_csv(\"preprocess_data_bank.csv\", encoding = 'cp949')"
   ]
  },
  {
   "cell_type": "code",
   "execution_count": 3,
   "metadata": {},
   "outputs": [
    {
     "data": {
      "text/html": [
       "<div>\n",
       "<style scoped>\n",
       "    .dataframe tbody tr th:only-of-type {\n",
       "        vertical-align: middle;\n",
       "    }\n",
       "\n",
       "    .dataframe tbody tr th {\n",
       "        vertical-align: top;\n",
       "    }\n",
       "\n",
       "    .dataframe thead th {\n",
       "        text-align: right;\n",
       "    }\n",
       "</style>\n",
       "<table border=\"1\" class=\"dataframe\">\n",
       "  <thead>\n",
       "    <tr style=\"text-align: right;\">\n",
       "      <th></th>\n",
       "      <th>index</th>\n",
       "      <th>은행코드</th>\n",
       "      <th>은행명</th>\n",
       "      <th>점포명</th>\n",
       "      <th>주소_변환</th>\n",
       "      <th>주소</th>\n",
       "      <th>x_axis</th>\n",
       "      <th>y_axis</th>\n",
       "    </tr>\n",
       "  </thead>\n",
       "  <tbody>\n",
       "    <tr>\n",
       "      <th>0</th>\n",
       "      <td>0</td>\n",
       "      <td>30009</td>\n",
       "      <td>기업</td>\n",
       "      <td>본부총괄</td>\n",
       "      <td>서울시 중구 을지로2가 50</td>\n",
       "      <td>서울특별시 중구 을지로2가 50</td>\n",
       "      <td>126.9865697</td>\n",
       "      <td>37.5665076</td>\n",
       "    </tr>\n",
       "    <tr>\n",
       "      <th>1</th>\n",
       "      <td>1</td>\n",
       "      <td>30012</td>\n",
       "      <td>기업</td>\n",
       "      <td>영업부</td>\n",
       "      <td>서울특별시 중구 을지로 79</td>\n",
       "      <td>서울특별시 중구 을지로 79 기업은행</td>\n",
       "      <td>126.9865516</td>\n",
       "      <td>37.566501</td>\n",
       "    </tr>\n",
       "    <tr>\n",
       "      <th>2</th>\n",
       "      <td>2</td>\n",
       "      <td>30025</td>\n",
       "      <td>기업</td>\n",
       "      <td>동대문（지）</td>\n",
       "      <td>서울특별시 종로구 종로 189 (종로4가)</td>\n",
       "      <td>서울특별시 종로구 종로 189 IBK기업은행</td>\n",
       "      <td>126.9987894</td>\n",
       "      <td>37.5710883</td>\n",
       "    </tr>\n",
       "    <tr>\n",
       "      <th>3</th>\n",
       "      <td>3</td>\n",
       "      <td>30038</td>\n",
       "      <td>기업</td>\n",
       "      <td>상계역（지）</td>\n",
       "      <td>서울특별시 노원구 덕릉로 690</td>\n",
       "      <td>서울특별시 노원구 덕릉로 690 기업은행</td>\n",
       "      <td>127.0756768</td>\n",
       "      <td>37.6591873</td>\n",
       "    </tr>\n",
       "    <tr>\n",
       "      <th>4</th>\n",
       "      <td>4</td>\n",
       "      <td>30041</td>\n",
       "      <td>기업</td>\n",
       "      <td>수유동（지）</td>\n",
       "      <td>서울특별시 강북구 삼양로 511</td>\n",
       "      <td>서울특별시 강북구 삼양로 511 기업은행</td>\n",
       "      <td>127.0137753</td>\n",
       "      <td>37.648693</td>\n",
       "    </tr>\n",
       "  </tbody>\n",
       "</table>\n",
       "</div>"
      ],
      "text/plain": [
       "   index   은행코드 은행명     점포명                    주소_변환  \\\n",
       "0      0  30009  기업    본부총괄          서울시 중구 을지로2가 50   \n",
       "1      1  30012  기업     영업부          서울특별시 중구 을지로 79   \n",
       "2      2  30025  기업  동대문（지）  서울특별시 종로구 종로 189 (종로4가)   \n",
       "3      3  30038  기업  상계역（지）        서울특별시 노원구 덕릉로 690   \n",
       "4      4  30041  기업  수유동（지）        서울특별시 강북구 삼양로 511   \n",
       "\n",
       "                         주소       x_axis      y_axis  \n",
       "0         서울특별시 중구 을지로2가 50  126.9865697  37.5665076  \n",
       "1      서울특별시 중구 을지로 79 기업은행  126.9865516   37.566501  \n",
       "2  서울특별시 종로구 종로 189 IBK기업은행  126.9987894  37.5710883  \n",
       "3    서울특별시 노원구 덕릉로 690 기업은행  127.0756768  37.6591873  \n",
       "4    서울특별시 강북구 삼양로 511 기업은행  127.0137753   37.648693  "
      ]
     },
     "execution_count": 3,
     "metadata": {},
     "output_type": "execute_result"
    }
   ],
   "source": [
    "df.head()"
   ]
  },
  {
   "cell_type": "code",
   "execution_count": 4,
   "metadata": {},
   "outputs": [
    {
     "name": "stdout",
     "output_type": "stream",
     "text": [
      "<class 'pandas.core.frame.DataFrame'>\n",
      "RangeIndex: 4011 entries, 0 to 4010\n",
      "Data columns (total 8 columns):\n",
      "index     4011 non-null int64\n",
      "은행코드      4011 non-null int64\n",
      "은행명       4011 non-null object\n",
      "점포명       4011 non-null object\n",
      "주소_변환     4011 non-null object\n",
      "주소        4011 non-null object\n",
      "x_axis    4011 non-null object\n",
      "y_axis    4011 non-null object\n",
      "dtypes: int64(2), object(6)\n",
      "memory usage: 250.8+ KB\n"
     ]
    }
   ],
   "source": [
    "df.info()"
   ]
  },
  {
   "cell_type": "code",
   "execution_count": 5,
   "metadata": {},
   "outputs": [],
   "source": [
    "df.drop('index', axis = 1, inplace = True)"
   ]
  },
  {
   "cell_type": "code",
   "execution_count": 6,
   "metadata": {},
   "outputs": [],
   "source": [
    "df['is_SEOUL'] = df.주소_변환.apply(lambda x : 1 if '서울' in x else 0)"
   ]
  },
  {
   "cell_type": "code",
   "execution_count": 7,
   "metadata": {},
   "outputs": [],
   "source": [
    "df_seoul = df[df.is_SEOUL == 1]"
   ]
  },
  {
   "cell_type": "code",
   "execution_count": 8,
   "metadata": {},
   "outputs": [
    {
     "name": "stdout",
     "output_type": "stream",
     "text": [
      "<class 'pandas.core.frame.DataFrame'>\n",
      "Int64Index: 1886 entries, 0 to 3998\n",
      "Data columns (total 8 columns):\n",
      "은행코드        1886 non-null int64\n",
      "은행명         1886 non-null object\n",
      "점포명         1886 non-null object\n",
      "주소_변환       1886 non-null object\n",
      "주소          1886 non-null object\n",
      "x_axis      1886 non-null object\n",
      "y_axis      1886 non-null object\n",
      "is_SEOUL    1886 non-null int64\n",
      "dtypes: int64(2), object(6)\n",
      "memory usage: 132.6+ KB\n"
     ]
    }
   ],
   "source": [
    "df_seoul.info()"
   ]
  },
  {
   "cell_type": "code",
   "execution_count": 9,
   "metadata": {},
   "outputs": [],
   "source": [
    "df_check_each = df_seoul[df_seoul.주소 == 'ERROR_CODE'].reset_index()"
   ]
  },
  {
   "cell_type": "code",
   "execution_count": 10,
   "metadata": {},
   "outputs": [
    {
     "data": {
      "text/plain": [
       "Index(['index', '은행코드', '은행명', '점포명', '주소_변환', '주소', 'x_axis', 'y_axis',\n",
       "       'is_SEOUL'],\n",
       "      dtype='object')"
      ]
     },
     "execution_count": 10,
     "metadata": {},
     "output_type": "execute_result"
    }
   ],
   "source": [
    "df_check_each.columns"
   ]
  },
  {
   "cell_type": "code",
   "execution_count": 11,
   "metadata": {},
   "outputs": [],
   "source": [
    "df_check_each.columns = ['index_number',  '은행코드','은행명', '점포명', '주소_변환', '주소', 'x_axis', 'y_axis','is_SEOUL']"
   ]
  },
  {
   "cell_type": "code",
   "execution_count": 12,
   "metadata": {},
   "outputs": [
    {
     "data": {
      "text/html": [
       "<div>\n",
       "<style scoped>\n",
       "    .dataframe tbody tr th:only-of-type {\n",
       "        vertical-align: middle;\n",
       "    }\n",
       "\n",
       "    .dataframe tbody tr th {\n",
       "        vertical-align: top;\n",
       "    }\n",
       "\n",
       "    .dataframe thead th {\n",
       "        text-align: right;\n",
       "    }\n",
       "</style>\n",
       "<table border=\"1\" class=\"dataframe\">\n",
       "  <thead>\n",
       "    <tr style=\"text-align: right;\">\n",
       "      <th></th>\n",
       "      <th>index_number</th>\n",
       "      <th>은행코드</th>\n",
       "      <th>은행명</th>\n",
       "      <th>점포명</th>\n",
       "      <th>주소_변환</th>\n",
       "      <th>주소</th>\n",
       "      <th>x_axis</th>\n",
       "      <th>y_axis</th>\n",
       "      <th>is_SEOUL</th>\n",
       "    </tr>\n",
       "  </thead>\n",
       "  <tbody>\n",
       "    <tr>\n",
       "      <th>0</th>\n",
       "      <td>232</td>\n",
       "      <td>32492</td>\n",
       "      <td>기업</td>\n",
       "      <td>ＣＭＡ영업점</td>\n",
       "      <td>서울 중구 을지로2가 중소기업은행본점 카드사업부</td>\n",
       "      <td>ERROR_CODE</td>\n",
       "      <td>ERROR_CODE</td>\n",
       "      <td>ERROR_CODE</td>\n",
       "      <td>1</td>\n",
       "    </tr>\n",
       "    <tr>\n",
       "      <th>1</th>\n",
       "      <td>330</td>\n",
       "      <td>34076</td>\n",
       "      <td>기업</td>\n",
       "      <td>특수영업부（지）</td>\n",
       "      <td>서울 중구 을지2가 50번지 기업은행</td>\n",
       "      <td>ERROR_CODE</td>\n",
       "      <td>ERROR_CODE</td>\n",
       "      <td>ERROR_CODE</td>\n",
       "      <td>1</td>\n",
       "    </tr>\n",
       "    <tr>\n",
       "      <th>2</th>\n",
       "      <td>348</td>\n",
       "      <td>34283</td>\n",
       "      <td>기업</td>\n",
       "      <td>제휴영업점</td>\n",
       "      <td>서울 중구 을지로2가 중소기업은행본점</td>\n",
       "      <td>ERROR_CODE</td>\n",
       "      <td>ERROR_CODE</td>\n",
       "      <td>ERROR_CODE</td>\n",
       "      <td>1</td>\n",
       "    </tr>\n",
       "    <tr>\n",
       "      <th>3</th>\n",
       "      <td>361</td>\n",
       "      <td>34416</td>\n",
       "      <td>기업</td>\n",
       "      <td>종합상황실２</td>\n",
       "      <td>서울 중구 을지로2가 기업은행 본점</td>\n",
       "      <td>ERROR_CODE</td>\n",
       "      <td>ERROR_CODE</td>\n",
       "      <td>ERROR_CODE</td>\n",
       "      <td>1</td>\n",
       "    </tr>\n",
       "    <tr>\n",
       "      <th>4</th>\n",
       "      <td>362</td>\n",
       "      <td>34429</td>\n",
       "      <td>기업</td>\n",
       "      <td>종합상황실３</td>\n",
       "      <td>서울 중구 을지로2가 기업은행 본점</td>\n",
       "      <td>ERROR_CODE</td>\n",
       "      <td>ERROR_CODE</td>\n",
       "      <td>ERROR_CODE</td>\n",
       "      <td>1</td>\n",
       "    </tr>\n",
       "  </tbody>\n",
       "</table>\n",
       "</div>"
      ],
      "text/plain": [
       "   index_number   은행코드 은행명       점포명                       주소_변환          주소  \\\n",
       "0           232  32492  기업    ＣＭＡ영업점  서울 중구 을지로2가 중소기업은행본점 카드사업부  ERROR_CODE   \n",
       "1           330  34076  기업  특수영업부（지）        서울 중구 을지2가 50번지 기업은행  ERROR_CODE   \n",
       "2           348  34283  기업     제휴영업점        서울 중구 을지로2가 중소기업은행본점  ERROR_CODE   \n",
       "3           361  34416  기업    종합상황실２         서울 중구 을지로2가 기업은행 본점  ERROR_CODE   \n",
       "4           362  34429  기업    종합상황실３         서울 중구 을지로2가 기업은행 본점  ERROR_CODE   \n",
       "\n",
       "       x_axis      y_axis  is_SEOUL  \n",
       "0  ERROR_CODE  ERROR_CODE         1  \n",
       "1  ERROR_CODE  ERROR_CODE         1  \n",
       "2  ERROR_CODE  ERROR_CODE         1  \n",
       "3  ERROR_CODE  ERROR_CODE         1  \n",
       "4  ERROR_CODE  ERROR_CODE         1  "
      ]
     },
     "execution_count": 12,
     "metadata": {},
     "output_type": "execute_result"
    }
   ],
   "source": [
    "df_check_each.head()"
   ]
  },
  {
   "cell_type": "code",
   "execution_count": 13,
   "metadata": {},
   "outputs": [],
   "source": [
    "use_list = [38,39,40,90,91,101,102,103,116,122,130,134,135,136,137,138,139,140,141,142,143,144,145,146,147,148,149,161,163,164,165,166,167,168,169,170,171,172,173,174,175,176,177,178]"
   ]
  },
  {
   "cell_type": "code",
   "execution_count": 14,
   "metadata": {},
   "outputs": [],
   "source": [
    "divider = pd.DataFrame({\"index\" : use_list, \"checker\":  True})"
   ]
  },
  {
   "cell_type": "code",
   "execution_count": 15,
   "metadata": {},
   "outputs": [],
   "source": [
    "df_check_each = pd.merge(df_check_each.reset_index(), divider, on = 'index', how = 'right')"
   ]
  },
  {
   "cell_type": "markdown",
   "metadata": {},
   "source": [
    "## 코드로 해결이 안되는 180여개의 주소는 직접 분류하고 주소를 입력하였다"
   ]
  },
  {
   "cell_type": "code",
   "execution_count": 16,
   "metadata": {},
   "outputs": [
    {
     "data": {
      "text/html": [
       "<div>\n",
       "<style scoped>\n",
       "    .dataframe tbody tr th:only-of-type {\n",
       "        vertical-align: middle;\n",
       "    }\n",
       "\n",
       "    .dataframe tbody tr th {\n",
       "        vertical-align: top;\n",
       "    }\n",
       "\n",
       "    .dataframe thead th {\n",
       "        text-align: right;\n",
       "    }\n",
       "</style>\n",
       "<table border=\"1\" class=\"dataframe\">\n",
       "  <thead>\n",
       "    <tr style=\"text-align: right;\">\n",
       "      <th></th>\n",
       "      <th>주소_변환</th>\n",
       "      <th>주소_변환2</th>\n",
       "    </tr>\n",
       "  </thead>\n",
       "  <tbody>\n",
       "    <tr>\n",
       "      <th>0</th>\n",
       "      <td>서울시 양천구 신정1동 목동신시가지 9단지 관리동내</td>\n",
       "      <td>서울특별시 양천구 목동서로 340 목동신시가지아파트9단지</td>\n",
       "    </tr>\n",
       "    <tr>\n",
       "      <th>1</th>\n",
       "      <td>서울 종로구 공평동 한국스탠다드차타드은행 본점 100번지</td>\n",
       "      <td>서울특별시 종로구 종로 47 제일은행본점</td>\n",
       "    </tr>\n",
       "    <tr>\n",
       "      <th>2</th>\n",
       "      <td>서울 종로구 공평동 한국스탠다드차타드은행 본점건물</td>\n",
       "      <td>서울특별시 종로구 종로 47 제일은행본점</td>\n",
       "    </tr>\n",
       "    <tr>\n",
       "      <th>3</th>\n",
       "      <td>서울 광진구 노유2동 237－10</td>\n",
       "      <td>서울특별시 광진구 뚝섬로 503 국민은행자양동지점</td>\n",
       "    </tr>\n",
       "    <tr>\n",
       "      <th>4</th>\n",
       "      <td>서울특별시 성북구 안암동5가고려대이공대 과학도서관지하</td>\n",
       "      <td>서울특별시 성북구 안암로 145 고려대학교 서울캠퍼스</td>\n",
       "    </tr>\n",
       "  </tbody>\n",
       "</table>\n",
       "</div>"
      ],
      "text/plain": [
       "                             주소_변환                           주소_변환2\n",
       "0     서울시 양천구 신정1동 목동신시가지 9단지 관리동내  서울특별시 양천구 목동서로 340 목동신시가지아파트9단지\n",
       "1  서울 종로구 공평동 한국스탠다드차타드은행 본점 100번지           서울특별시 종로구 종로 47 제일은행본점\n",
       "2      서울 종로구 공평동 한국스탠다드차타드은행 본점건물           서울특별시 종로구 종로 47 제일은행본점\n",
       "3               서울 광진구 노유2동 237－10      서울특별시 광진구 뚝섬로 503 국민은행자양동지점\n",
       "4    서울특별시 성북구 안암동5가고려대이공대 과학도서관지하    서울특별시 성북구 안암로 145 고려대학교 서울캠퍼스"
      ]
     },
     "execution_count": 16,
     "metadata": {},
     "output_type": "execute_result"
    }
   ],
   "source": [
    "df_check_fixed = pd.read_csv(\"add_fixed.csv\", encoding = 'cp949')\n",
    "df_check_fixed.head()"
   ]
  },
  {
   "cell_type": "code",
   "execution_count": 17,
   "metadata": {},
   "outputs": [
    {
     "data": {
      "text/html": [
       "<div>\n",
       "<style scoped>\n",
       "    .dataframe tbody tr th:only-of-type {\n",
       "        vertical-align: middle;\n",
       "    }\n",
       "\n",
       "    .dataframe tbody tr th {\n",
       "        vertical-align: top;\n",
       "    }\n",
       "\n",
       "    .dataframe thead th {\n",
       "        text-align: right;\n",
       "    }\n",
       "</style>\n",
       "<table border=\"1\" class=\"dataframe\">\n",
       "  <thead>\n",
       "    <tr style=\"text-align: right;\">\n",
       "      <th></th>\n",
       "      <th>index</th>\n",
       "      <th>index_number</th>\n",
       "      <th>은행코드</th>\n",
       "      <th>은행명</th>\n",
       "      <th>점포명</th>\n",
       "      <th>주소_변환</th>\n",
       "      <th>주소</th>\n",
       "      <th>x_axis</th>\n",
       "      <th>y_axis</th>\n",
       "      <th>is_SEOUL</th>\n",
       "      <th>checker</th>\n",
       "    </tr>\n",
       "  </thead>\n",
       "  <tbody>\n",
       "    <tr>\n",
       "      <th>0</th>\n",
       "      <td>38</td>\n",
       "      <td>961</td>\n",
       "      <td>234083</td>\n",
       "      <td>ＳＣ제일</td>\n",
       "      <td>목동９단지（지）</td>\n",
       "      <td>서울시 양천구 신정1동 목동신시가지 9단지 관리동내</td>\n",
       "      <td>ERROR_CODE</td>\n",
       "      <td>ERROR_CODE</td>\n",
       "      <td>ERROR_CODE</td>\n",
       "      <td>1</td>\n",
       "      <td>True</td>\n",
       "    </tr>\n",
       "    <tr>\n",
       "      <th>1</th>\n",
       "      <td>39</td>\n",
       "      <td>999</td>\n",
       "      <td>235338</td>\n",
       "      <td>ＳＣ제일</td>\n",
       "      <td>ＣＢ　자가점포관리점</td>\n",
       "      <td>서울 종로구 공평동 한국스탠다드차타드은행 본점 100번지</td>\n",
       "      <td>ERROR_CODE</td>\n",
       "      <td>ERROR_CODE</td>\n",
       "      <td>ERROR_CODE</td>\n",
       "      <td>1</td>\n",
       "      <td>True</td>\n",
       "    </tr>\n",
       "    <tr>\n",
       "      <th>2</th>\n",
       "      <td>40</td>\n",
       "      <td>1116</td>\n",
       "      <td>238034</td>\n",
       "      <td>ＳＣ제일</td>\n",
       "      <td>글로벌기업금융　ＲＡ</td>\n",
       "      <td>서울 종로구 공평동 한국스탠다드차타드은행 본점건물</td>\n",
       "      <td>ERROR_CODE</td>\n",
       "      <td>ERROR_CODE</td>\n",
       "      <td>ERROR_CODE</td>\n",
       "      <td>1</td>\n",
       "      <td>True</td>\n",
       "    </tr>\n",
       "    <tr>\n",
       "      <th>3</th>\n",
       "      <td>90</td>\n",
       "      <td>1581</td>\n",
       "      <td>47762</td>\n",
       "      <td>국민</td>\n",
       "      <td>영동교</td>\n",
       "      <td>서울 광진구 노유2동 237－10</td>\n",
       "      <td>ERROR_CODE</td>\n",
       "      <td>ERROR_CODE</td>\n",
       "      <td>ERROR_CODE</td>\n",
       "      <td>1</td>\n",
       "      <td>True</td>\n",
       "    </tr>\n",
       "    <tr>\n",
       "      <th>4</th>\n",
       "      <td>91</td>\n",
       "      <td>1638</td>\n",
       "      <td>48554</td>\n",
       "      <td>국민</td>\n",
       "      <td>고려대학교（출）</td>\n",
       "      <td>서울특별시 성북구 안암동5가고려대이공대 과학도서관지하</td>\n",
       "      <td>ERROR_CODE</td>\n",
       "      <td>ERROR_CODE</td>\n",
       "      <td>ERROR_CODE</td>\n",
       "      <td>1</td>\n",
       "      <td>True</td>\n",
       "    </tr>\n",
       "  </tbody>\n",
       "</table>\n",
       "</div>"
      ],
      "text/plain": [
       "   index  index_number    은행코드   은행명         점포명  \\\n",
       "0     38           961  234083  ＳＣ제일    목동９단지（지）   \n",
       "1     39           999  235338  ＳＣ제일  ＣＢ　자가점포관리점   \n",
       "2     40          1116  238034  ＳＣ제일  글로벌기업금융　ＲＡ   \n",
       "3     90          1581   47762    국민         영동교   \n",
       "4     91          1638   48554    국민    고려대학교（출）   \n",
       "\n",
       "                             주소_변환          주소      x_axis      y_axis  \\\n",
       "0     서울시 양천구 신정1동 목동신시가지 9단지 관리동내  ERROR_CODE  ERROR_CODE  ERROR_CODE   \n",
       "1  서울 종로구 공평동 한국스탠다드차타드은행 본점 100번지  ERROR_CODE  ERROR_CODE  ERROR_CODE   \n",
       "2      서울 종로구 공평동 한국스탠다드차타드은행 본점건물  ERROR_CODE  ERROR_CODE  ERROR_CODE   \n",
       "3               서울 광진구 노유2동 237－10  ERROR_CODE  ERROR_CODE  ERROR_CODE   \n",
       "4    서울특별시 성북구 안암동5가고려대이공대 과학도서관지하  ERROR_CODE  ERROR_CODE  ERROR_CODE   \n",
       "\n",
       "   is_SEOUL  checker  \n",
       "0         1     True  \n",
       "1         1     True  \n",
       "2         1     True  \n",
       "3         1     True  \n",
       "4         1     True  "
      ]
     },
     "execution_count": 17,
     "metadata": {},
     "output_type": "execute_result"
    }
   ],
   "source": [
    "df_check_each.head()"
   ]
  },
  {
   "cell_type": "code",
   "execution_count": 18,
   "metadata": {},
   "outputs": [],
   "source": [
    "df_check_each.drop('index', axis = 1, inplace = True)\n",
    "df_check_each = pd.merge(df_check_each.reset_index(), df_check_fixed.reset_index(), on = \"index\", how = 'left')\n",
    "df_check_each.drop(['index','checker','주소_변환_x','주소_변환_y'], axis = 1, inplace = True)"
   ]
  },
  {
   "cell_type": "code",
   "execution_count": 19,
   "metadata": {},
   "outputs": [],
   "source": [
    "df_check_each.columns = ['index_number', '은행코드', '은행명', '점포명', '주소', 'x_axis', 'y_axis', 'is_SEOUL', '주소_변환']"
   ]
  },
  {
   "cell_type": "code",
   "execution_count": 20,
   "metadata": {},
   "outputs": [
    {
     "data": {
      "text/html": [
       "<div>\n",
       "<style scoped>\n",
       "    .dataframe tbody tr th:only-of-type {\n",
       "        vertical-align: middle;\n",
       "    }\n",
       "\n",
       "    .dataframe tbody tr th {\n",
       "        vertical-align: top;\n",
       "    }\n",
       "\n",
       "    .dataframe thead th {\n",
       "        text-align: right;\n",
       "    }\n",
       "</style>\n",
       "<table border=\"1\" class=\"dataframe\">\n",
       "  <thead>\n",
       "    <tr style=\"text-align: right;\">\n",
       "      <th></th>\n",
       "      <th>index_number</th>\n",
       "      <th>은행코드</th>\n",
       "      <th>은행명</th>\n",
       "      <th>점포명</th>\n",
       "      <th>주소</th>\n",
       "      <th>x_axis</th>\n",
       "      <th>y_axis</th>\n",
       "      <th>is_SEOUL</th>\n",
       "      <th>주소_변환</th>\n",
       "    </tr>\n",
       "  </thead>\n",
       "  <tbody>\n",
       "    <tr>\n",
       "      <th>0</th>\n",
       "      <td>961</td>\n",
       "      <td>234083</td>\n",
       "      <td>ＳＣ제일</td>\n",
       "      <td>목동９단지（지）</td>\n",
       "      <td>ERROR_CODE</td>\n",
       "      <td>ERROR_CODE</td>\n",
       "      <td>ERROR_CODE</td>\n",
       "      <td>1</td>\n",
       "      <td>서울특별시 양천구 목동서로 340 목동신시가지아파트9단지</td>\n",
       "    </tr>\n",
       "    <tr>\n",
       "      <th>1</th>\n",
       "      <td>999</td>\n",
       "      <td>235338</td>\n",
       "      <td>ＳＣ제일</td>\n",
       "      <td>ＣＢ　자가점포관리점</td>\n",
       "      <td>ERROR_CODE</td>\n",
       "      <td>ERROR_CODE</td>\n",
       "      <td>ERROR_CODE</td>\n",
       "      <td>1</td>\n",
       "      <td>서울특별시 종로구 종로 47 제일은행본점</td>\n",
       "    </tr>\n",
       "    <tr>\n",
       "      <th>2</th>\n",
       "      <td>1116</td>\n",
       "      <td>238034</td>\n",
       "      <td>ＳＣ제일</td>\n",
       "      <td>글로벌기업금융　ＲＡ</td>\n",
       "      <td>ERROR_CODE</td>\n",
       "      <td>ERROR_CODE</td>\n",
       "      <td>ERROR_CODE</td>\n",
       "      <td>1</td>\n",
       "      <td>서울특별시 종로구 종로 47 제일은행본점</td>\n",
       "    </tr>\n",
       "    <tr>\n",
       "      <th>3</th>\n",
       "      <td>1581</td>\n",
       "      <td>47762</td>\n",
       "      <td>국민</td>\n",
       "      <td>영동교</td>\n",
       "      <td>ERROR_CODE</td>\n",
       "      <td>ERROR_CODE</td>\n",
       "      <td>ERROR_CODE</td>\n",
       "      <td>1</td>\n",
       "      <td>서울특별시 광진구 뚝섬로 503 국민은행자양동지점</td>\n",
       "    </tr>\n",
       "    <tr>\n",
       "      <th>4</th>\n",
       "      <td>1638</td>\n",
       "      <td>48554</td>\n",
       "      <td>국민</td>\n",
       "      <td>고려대학교（출）</td>\n",
       "      <td>ERROR_CODE</td>\n",
       "      <td>ERROR_CODE</td>\n",
       "      <td>ERROR_CODE</td>\n",
       "      <td>1</td>\n",
       "      <td>서울특별시 성북구 안암로 145 고려대학교 서울캠퍼스</td>\n",
       "    </tr>\n",
       "  </tbody>\n",
       "</table>\n",
       "</div>"
      ],
      "text/plain": [
       "   index_number    은행코드   은행명         점포명          주소      x_axis      y_axis  \\\n",
       "0           961  234083  ＳＣ제일    목동９단지（지）  ERROR_CODE  ERROR_CODE  ERROR_CODE   \n",
       "1           999  235338  ＳＣ제일  ＣＢ　자가점포관리점  ERROR_CODE  ERROR_CODE  ERROR_CODE   \n",
       "2          1116  238034  ＳＣ제일  글로벌기업금융　ＲＡ  ERROR_CODE  ERROR_CODE  ERROR_CODE   \n",
       "3          1581   47762    국민         영동교  ERROR_CODE  ERROR_CODE  ERROR_CODE   \n",
       "4          1638   48554    국민    고려대학교（출）  ERROR_CODE  ERROR_CODE  ERROR_CODE   \n",
       "\n",
       "   is_SEOUL                            주소_변환  \n",
       "0         1  서울특별시 양천구 목동서로 340 목동신시가지아파트9단지  \n",
       "1         1           서울특별시 종로구 종로 47 제일은행본점  \n",
       "2         1           서울특별시 종로구 종로 47 제일은행본점  \n",
       "3         1      서울특별시 광진구 뚝섬로 503 국민은행자양동지점  \n",
       "4         1    서울특별시 성북구 안암로 145 고려대학교 서울캠퍼스  "
      ]
     },
     "execution_count": 20,
     "metadata": {},
     "output_type": "execute_result"
    }
   ],
   "source": [
    "df_check_each.head()"
   ]
  },
  {
   "cell_type": "markdown",
   "metadata": {},
   "source": [
    "## 작업한 코드의 좌표 받아오기"
   ]
  },
  {
   "cell_type": "code",
   "execution_count": 21,
   "metadata": {},
   "outputs": [],
   "source": [
    "client_id = \"******\"\n",
    "client_secret = \"******\""
   ]
  },
  {
   "cell_type": "code",
   "execution_count": 22,
   "metadata": {},
   "outputs": [],
   "source": [
    "def address_to_axis(address):\n",
    "    encText = urllib.parse.quote(address)\n",
    "    url = \"https://openapi.naver.com/v1/map/geocode?query=\" + encText # json 결과\n",
    "\n",
    "    request = urllib.request.Request(url)\n",
    "    request.add_header(\"X-Naver-Client-Id\",client_id)\n",
    "    request.add_header(\"X-Naver-Client-Secret\",client_secret)\n",
    "    response = urllib.request.urlopen(request)\n",
    "    rescode = response.getcode()\n",
    "    \n",
    "    if(rescode==200):\n",
    "        data_info = json.load(response)\n",
    "        address_info = data_info['result']['items'][0]['address']\n",
    "        axis_x = data_info['result']['items'][0]['point']['x']\n",
    "        axis_y = data_info['result']['items'][0]['point']['y']\n",
    "        \n",
    "    else:\n",
    "        address_info = 'ERROR_CODE'\n",
    "        axis_x = 'ERROR_CODE'\n",
    "        axis_y = 'ERROR_CODE'\n",
    "        \n",
    "    return (address_info, axis_x, axis_y)"
   ]
  },
  {
   "cell_type": "code",
   "execution_count": 23,
   "metadata": {},
   "outputs": [],
   "source": [
    "address_list = list()\n",
    "x_axis_list = list()\n",
    "y_axis_list = list()\n",
    "\n",
    "for _ in df_check_each.주소_변환:\n",
    "    try:\n",
    "        add_info, x_ax, y_ax = address_to_axis(_)\n",
    "    except:\n",
    "        add_info, x_ax, y_ax = ('ERROR_CODE', 'ERROR_CODE', 'ERROR_CODE')\n",
    "    address_list.append(add_info)\n",
    "    x_axis_list.append(x_ax)\n",
    "    y_axis_list.append(y_ax)"
   ]
  },
  {
   "cell_type": "code",
   "execution_count": 24,
   "metadata": {},
   "outputs": [],
   "source": [
    "df_check_each['주소'] = address_list\n",
    "df_check_each['x_axis'] = x_axis_list\n",
    "df_check_each['y_axis'] = y_axis_list"
   ]
  },
  {
   "cell_type": "code",
   "execution_count": 25,
   "metadata": {},
   "outputs": [],
   "source": [
    "df_check_each.index = df_check_each.index_number.values"
   ]
  },
  {
   "cell_type": "code",
   "execution_count": 26,
   "metadata": {},
   "outputs": [],
   "source": [
    "df_check_each.drop('index_number', axis = 1, inplace = True)"
   ]
  },
  {
   "cell_type": "code",
   "execution_count": 27,
   "metadata": {},
   "outputs": [],
   "source": [
    "df_seoul = df_seoul[df_seoul.주소 != \"ERROR_CODE\"].append(df_check_each)"
   ]
  },
  {
   "cell_type": "code",
   "execution_count": 28,
   "metadata": {},
   "outputs": [],
   "source": [
    "df_seoul = df_seoul.reset_index()\n",
    "df_seoul.drop('index', axis = 1, inplace = True)"
   ]
  },
  {
   "cell_type": "code",
   "execution_count": 31,
   "metadata": {},
   "outputs": [],
   "source": [
    "df_seoul.drop('is_SEOUL', axis = 1, inplace = True)"
   ]
  },
  {
   "cell_type": "code",
   "execution_count": 32,
   "metadata": {},
   "outputs": [
    {
     "data": {
      "text/html": [
       "<div>\n",
       "<style scoped>\n",
       "    .dataframe tbody tr th:only-of-type {\n",
       "        vertical-align: middle;\n",
       "    }\n",
       "\n",
       "    .dataframe tbody tr th {\n",
       "        vertical-align: top;\n",
       "    }\n",
       "\n",
       "    .dataframe thead th {\n",
       "        text-align: right;\n",
       "    }\n",
       "</style>\n",
       "<table border=\"1\" class=\"dataframe\">\n",
       "  <thead>\n",
       "    <tr style=\"text-align: right;\">\n",
       "      <th></th>\n",
       "      <th>x_axis</th>\n",
       "      <th>y_axis</th>\n",
       "      <th>은행명</th>\n",
       "      <th>은행코드</th>\n",
       "      <th>점포명</th>\n",
       "      <th>주소</th>\n",
       "      <th>주소_변환</th>\n",
       "    </tr>\n",
       "  </thead>\n",
       "  <tbody>\n",
       "    <tr>\n",
       "      <th>0</th>\n",
       "      <td>126.9865697</td>\n",
       "      <td>37.5665076</td>\n",
       "      <td>기업</td>\n",
       "      <td>30009</td>\n",
       "      <td>본부총괄</td>\n",
       "      <td>서울특별시 중구 을지로2가 50</td>\n",
       "      <td>서울시 중구 을지로2가 50</td>\n",
       "    </tr>\n",
       "    <tr>\n",
       "      <th>1</th>\n",
       "      <td>126.9865516</td>\n",
       "      <td>37.566501</td>\n",
       "      <td>기업</td>\n",
       "      <td>30012</td>\n",
       "      <td>영업부</td>\n",
       "      <td>서울특별시 중구 을지로 79 기업은행</td>\n",
       "      <td>서울특별시 중구 을지로 79</td>\n",
       "    </tr>\n",
       "    <tr>\n",
       "      <th>2</th>\n",
       "      <td>126.9987894</td>\n",
       "      <td>37.5710883</td>\n",
       "      <td>기업</td>\n",
       "      <td>30025</td>\n",
       "      <td>동대문（지）</td>\n",
       "      <td>서울특별시 종로구 종로 189 IBK기업은행</td>\n",
       "      <td>서울특별시 종로구 종로 189 (종로4가)</td>\n",
       "    </tr>\n",
       "    <tr>\n",
       "      <th>3</th>\n",
       "      <td>127.0756768</td>\n",
       "      <td>37.6591873</td>\n",
       "      <td>기업</td>\n",
       "      <td>30038</td>\n",
       "      <td>상계역（지）</td>\n",
       "      <td>서울특별시 노원구 덕릉로 690 기업은행</td>\n",
       "      <td>서울특별시 노원구 덕릉로 690</td>\n",
       "    </tr>\n",
       "    <tr>\n",
       "      <th>4</th>\n",
       "      <td>127.0137753</td>\n",
       "      <td>37.648693</td>\n",
       "      <td>기업</td>\n",
       "      <td>30041</td>\n",
       "      <td>수유동（지）</td>\n",
       "      <td>서울특별시 강북구 삼양로 511 기업은행</td>\n",
       "      <td>서울특별시 강북구 삼양로 511</td>\n",
       "    </tr>\n",
       "  </tbody>\n",
       "</table>\n",
       "</div>"
      ],
      "text/plain": [
       "        x_axis      y_axis 은행명   은행코드     점포명                        주소  \\\n",
       "0  126.9865697  37.5665076  기업  30009    본부총괄         서울특별시 중구 을지로2가 50   \n",
       "1  126.9865516   37.566501  기업  30012     영업부      서울특별시 중구 을지로 79 기업은행   \n",
       "2  126.9987894  37.5710883  기업  30025  동대문（지）  서울특별시 종로구 종로 189 IBK기업은행   \n",
       "3  127.0756768  37.6591873  기업  30038  상계역（지）    서울특별시 노원구 덕릉로 690 기업은행   \n",
       "4  127.0137753   37.648693  기업  30041  수유동（지）    서울특별시 강북구 삼양로 511 기업은행   \n",
       "\n",
       "                     주소_변환  \n",
       "0          서울시 중구 을지로2가 50  \n",
       "1          서울특별시 중구 을지로 79  \n",
       "2  서울특별시 종로구 종로 189 (종로4가)  \n",
       "3        서울특별시 노원구 덕릉로 690  \n",
       "4        서울특별시 강북구 삼양로 511  "
      ]
     },
     "execution_count": 32,
     "metadata": {},
     "output_type": "execute_result"
    }
   ],
   "source": [
    "df_seoul.head()"
   ]
  },
  {
   "cell_type": "code",
   "execution_count": 33,
   "metadata": {},
   "outputs": [
    {
     "name": "stdout",
     "output_type": "stream",
     "text": [
      "<class 'pandas.core.frame.DataFrame'>\n",
      "RangeIndex: 1749 entries, 0 to 1748\n",
      "Data columns (total 7 columns):\n",
      "x_axis    1749 non-null object\n",
      "y_axis    1749 non-null object\n",
      "은행명       1749 non-null object\n",
      "은행코드      1749 non-null int64\n",
      "점포명       1749 non-null object\n",
      "주소        1749 non-null object\n",
      "주소_변환     1749 non-null object\n",
      "dtypes: int64(1), object(6)\n",
      "memory usage: 95.7+ KB\n"
     ]
    }
   ],
   "source": [
    "df_seoul.info()"
   ]
  },
  {
   "cell_type": "code",
   "execution_count": 38,
   "metadata": {},
   "outputs": [],
   "source": [
    "# 서울에 있는 은행지점만 모두 취합 완료하였다.\n",
    "\n",
    "df_seoul.to_csv(\"bank_in_SEOUL_with_AXIS.csv\", index = False, encoding = 'cp949')"
   ]
  },
  {
   "cell_type": "code",
   "execution_count": 39,
   "metadata": {},
   "outputs": [
    {
     "data": {
      "text/html": [
       "<div>\n",
       "<style scoped>\n",
       "    .dataframe tbody tr th:only-of-type {\n",
       "        vertical-align: middle;\n",
       "    }\n",
       "\n",
       "    .dataframe tbody tr th {\n",
       "        vertical-align: top;\n",
       "    }\n",
       "\n",
       "    .dataframe thead th {\n",
       "        text-align: right;\n",
       "    }\n",
       "</style>\n",
       "<table border=\"1\" class=\"dataframe\">\n",
       "  <thead>\n",
       "    <tr style=\"text-align: right;\">\n",
       "      <th></th>\n",
       "      <th>x_axis</th>\n",
       "      <th>y_axis</th>\n",
       "      <th>은행명</th>\n",
       "      <th>은행코드</th>\n",
       "      <th>점포명</th>\n",
       "      <th>주소</th>\n",
       "      <th>주소_변환</th>\n",
       "    </tr>\n",
       "  </thead>\n",
       "  <tbody>\n",
       "    <tr>\n",
       "      <th>0</th>\n",
       "      <td>126.986570</td>\n",
       "      <td>37.566508</td>\n",
       "      <td>기업</td>\n",
       "      <td>30009</td>\n",
       "      <td>본부총괄</td>\n",
       "      <td>서울특별시 중구 을지로2가 50</td>\n",
       "      <td>서울시 중구 을지로2가 50</td>\n",
       "    </tr>\n",
       "    <tr>\n",
       "      <th>1</th>\n",
       "      <td>126.986552</td>\n",
       "      <td>37.566501</td>\n",
       "      <td>기업</td>\n",
       "      <td>30012</td>\n",
       "      <td>영업부</td>\n",
       "      <td>서울특별시 중구 을지로 79 기업은행</td>\n",
       "      <td>서울특별시 중구 을지로 79</td>\n",
       "    </tr>\n",
       "    <tr>\n",
       "      <th>2</th>\n",
       "      <td>126.998789</td>\n",
       "      <td>37.571088</td>\n",
       "      <td>기업</td>\n",
       "      <td>30025</td>\n",
       "      <td>동대문（지）</td>\n",
       "      <td>서울특별시 종로구 종로 189 IBK기업은행</td>\n",
       "      <td>서울특별시 종로구 종로 189 (종로4가)</td>\n",
       "    </tr>\n",
       "    <tr>\n",
       "      <th>3</th>\n",
       "      <td>127.075677</td>\n",
       "      <td>37.659187</td>\n",
       "      <td>기업</td>\n",
       "      <td>30038</td>\n",
       "      <td>상계역（지）</td>\n",
       "      <td>서울특별시 노원구 덕릉로 690 기업은행</td>\n",
       "      <td>서울특별시 노원구 덕릉로 690</td>\n",
       "    </tr>\n",
       "    <tr>\n",
       "      <th>4</th>\n",
       "      <td>127.013775</td>\n",
       "      <td>37.648693</td>\n",
       "      <td>기업</td>\n",
       "      <td>30041</td>\n",
       "      <td>수유동（지）</td>\n",
       "      <td>서울특별시 강북구 삼양로 511 기업은행</td>\n",
       "      <td>서울특별시 강북구 삼양로 511</td>\n",
       "    </tr>\n",
       "  </tbody>\n",
       "</table>\n",
       "</div>"
      ],
      "text/plain": [
       "       x_axis     y_axis 은행명   은행코드     점포명                        주소  \\\n",
       "0  126.986570  37.566508  기업  30009    본부총괄         서울특별시 중구 을지로2가 50   \n",
       "1  126.986552  37.566501  기업  30012     영업부      서울특별시 중구 을지로 79 기업은행   \n",
       "2  126.998789  37.571088  기업  30025  동대문（지）  서울특별시 종로구 종로 189 IBK기업은행   \n",
       "3  127.075677  37.659187  기업  30038  상계역（지）    서울특별시 노원구 덕릉로 690 기업은행   \n",
       "4  127.013775  37.648693  기업  30041  수유동（지）    서울특별시 강북구 삼양로 511 기업은행   \n",
       "\n",
       "                     주소_변환  \n",
       "0          서울시 중구 을지로2가 50  \n",
       "1          서울특별시 중구 을지로 79  \n",
       "2  서울특별시 종로구 종로 189 (종로4가)  \n",
       "3        서울특별시 노원구 덕릉로 690  \n",
       "4        서울특별시 강북구 삼양로 511  "
      ]
     },
     "execution_count": 39,
     "metadata": {},
     "output_type": "execute_result"
    }
   ],
   "source": [
    "# 잘 저장되었는지 확인\n",
    "a = pd.read_csv(\"bank_in_SEOUL_with_AXIS.csv\", encoding = 'cp949')\n",
    "a.head()"
   ]
  },
  {
   "cell_type": "code",
   "execution_count": 40,
   "metadata": {},
   "outputs": [
    {
     "name": "stdout",
     "output_type": "stream",
     "text": [
      "<class 'pandas.core.frame.DataFrame'>\n",
      "RangeIndex: 1749 entries, 0 to 1748\n",
      "Data columns (total 7 columns):\n",
      "x_axis    1749 non-null float64\n",
      "y_axis    1749 non-null float64\n",
      "은행명       1749 non-null object\n",
      "은행코드      1749 non-null int64\n",
      "점포명       1749 non-null object\n",
      "주소        1749 non-null object\n",
      "주소_변환     1749 non-null object\n",
      "dtypes: float64(2), int64(1), object(4)\n",
      "memory usage: 95.7+ KB\n"
     ]
    }
   ],
   "source": [
    "a.info()"
   ]
  }
 ],
 "metadata": {
  "kernelspec": {
   "display_name": "Python 3",
   "language": "python",
   "name": "python3"
  },
  "language_info": {
   "codemirror_mode": {
    "name": "ipython",
    "version": 3
   },
   "file_extension": ".py",
   "mimetype": "text/x-python",
   "name": "python",
   "nbconvert_exporter": "python",
   "pygments_lexer": "ipython3",
   "version": "3.6.4"
  }
 },
 "nbformat": 4,
 "nbformat_minor": 2
}
