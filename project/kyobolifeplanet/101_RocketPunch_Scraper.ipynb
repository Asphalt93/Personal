{
 "cells": [
  {
   "cell_type": "code",
   "execution_count": null,
   "metadata": {},
   "outputs": [],
   "source": [
    "import pandas as pd\n",
    "from bs4 import BeautifulSoup as bs\n",
    "from selenium import webdriver\n",
    "import time\n",
    "import gc"
   ]
  },
  {
   "cell_type": "code",
   "execution_count": null,
   "metadata": {},
   "outputs": [],
   "source": [
    "url_source = \"https://www.rocketpunch.com/companies?page=\""
   ]
  },
  {
   "cell_type": "code",
   "execution_count": null,
   "metadata": {},
   "outputs": [],
   "source": [
    "options = webdriver.ChromeOptions()\n",
    "options.add_argument('headless')\n",
    "options.add_argument('window-size=1920x1080')\n",
    "options.add_argument(\"disable-gpu\")"
   ]
  },
  {
   "cell_type": "code",
   "execution_count": null,
   "metadata": {},
   "outputs": [],
   "source": [
    "driver = webdriver.Chrome(\"C:/chromedriver.exe\", chrome_options=options)\n",
    "driver.get(\"https://www.rocketpunch.com/companies?page=\"+str(1)+\"&q=\")\n",
    "df_list = list()\n",
    "\n",
    "for n in range(2,3398):\n",
    "    time.sleep(2.5)\n",
    "    gc.collect()\n",
    "    html = driver.page_source\n",
    "    bs_xml = bs(html, \"html.parser\")\n",
    "    a = bs_xml.find(\"div\", {\"id\":\"company-list\"}).findAll(\"div\", {\"class\":\"company item\"})\n",
    "    for _ in a:\n",
    "        cp_name = _.find('img')['alt'].split(\" \")[0] \n",
    "        cp_url = 'https://www.rocketpunch.com' + _.find(\"a\",{'class':'link'})['href']\n",
    "        df_list.append([cp_name, cp_url])\n",
    "    print(n, \" 완료\")\n",
    "    try:\n",
    "        driver.find_element_by_css_selector('#search-results > div.ui.blank.right.floated.segment > div > a:nth-child(4) > i').click()\n",
    "    except:\n",
    "        driver.find_element_by_xpath('//*[@id=\"company_signup_popup\"]/div[1]/i').click()\n",
    "        print(\"팝업처리\")\n",
    "        time.sleep(0.5)\n",
    "        driver.find_element_by_css_selector('#search-results > div.ui.blank.right.floated.segment > div > a:nth-child(4) > i').click()\n",
    "        \n",
    "df = pd.DataFrame(df_list, columns = ['name', 'url'])"
   ]
  },
  {
   "cell_type": "code",
   "execution_count": null,
   "metadata": {},
   "outputs": [],
   "source": [
    "df = pd.DataFrame(df_list, columns = ['name', 'url'])"
   ]
  },
  {
   "cell_type": "code",
   "execution_count": null,
   "metadata": {},
   "outputs": [],
   "source": [
    "df.to_csv(\"RocketPunch.csv\", index = False)"
   ]
  },
  {
   "cell_type": "code",
   "execution_count": null,
   "metadata": {},
   "outputs": [],
   "source": [
    "driver.get_screenshot_as_file('error.png')"
   ]
  },
  {
   "cell_type": "code",
   "execution_count": null,
   "metadata": {},
   "outputs": [],
   "source": [
    "df_org = pd.DataFrame(df.groupby('name')['url'].apply(list))"
   ]
  },
  {
   "cell_type": "code",
   "execution_count": null,
   "metadata": {},
   "outputs": [],
   "source": [
    "df_org.reset_index(inplace = True)"
   ]
  },
  {
   "cell_type": "code",
   "execution_count": null,
   "metadata": {},
   "outputs": [],
   "source": [
    "df_org['url'] = df_org.url.apply(lambda x : x[0])"
   ]
  },
  {
   "cell_type": "code",
   "execution_count": null,
   "metadata": {},
   "outputs": [],
   "source": [
    "df_org"
   ]
  },
  {
   "cell_type": "code",
   "execution_count": null,
   "metadata": {},
   "outputs": [],
   "source": []
  }
 ],
 "metadata": {
  "kernelspec": {
   "display_name": "Python 3",
   "language": "python",
   "name": "python3"
  },
  "language_info": {
   "codemirror_mode": {
    "name": "ipython",
    "version": 3
   },
   "file_extension": ".py",
   "mimetype": "text/x-python",
   "name": "python",
   "nbconvert_exporter": "python",
   "pygments_lexer": "ipython3",
   "version": "3.6.4"
  }
 },
 "nbformat": 4,
 "nbformat_minor": 2
}
